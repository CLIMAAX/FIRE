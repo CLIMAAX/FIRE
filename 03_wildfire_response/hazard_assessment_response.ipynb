{
 "cells": [
  {
   "cell_type": "markdown",
   "id": "6abe11ba-c515-4135-bd7e-6b80c70817c4",
   "metadata": {},
   "source": [
    "# Hazard assessment: response surface methodology\n",
    "\n",
    "- A workflow from the CLIMAAX [Handbook](https://handbook.climaax.eu/) and [FIRE](https://github.com/CLIMAAX/FIRE) GitHub repository.\n",
    "- See our [how to use risk workflows](https://handbook.climaax.eu/notebooks/workflows_how_to.html) page for information on how to run this notebook.\n",
    "\n",
    "In this second notebook of the workflow, we make use of all perturbed FWI simulations in the dataset after exploring the properties of a single simulation in the previous [historical climate](hazard_assessment_historical.ipynb) notebook.\n",
    "We construct a response model of Fire Weather Index (FWI) extreme with respect to temperature, following the approach of [El Garroussi et al. (2024)](https://doi.org/10.1038/s41612-024-00575-8)."
   ]
  },
  {
   "cell_type": "markdown",
   "id": "cba1e6de-9444-480c-a4b9-721376aca8b8",
   "metadata": {},
   "source": [
    "## Preparation work\n",
    "\n",
    "### Load libraries\n",
    "\n",
    ":::{admonition} Information about the libraries used in this workflow\n",
    ":class: hint dropdown\n",
    "\n",
    "- [pathlib](https://docs.python.org/3/library/pathlib.html) - Convenient file path manipulation.\n",
    "- [json](https://docs.python.org/3/library/json.html) - General data en- and decoding, used to save the workflow configuration to disk.\n",
    "- [pickle](https://docs.python.org/3/library/pickle.html) - Python-specific object en- and decoding, used to save the response model to disk.\n",
    "- [numpy](https://numpy.org/) - A powerful library for numerical computations, widely used for array operations and mathematical functions.\n",
    "- [pandas](https://pandas.pydata.org/) - A data manipulation and analysis library, essential for working with structured data in tabular form.\n",
    "- [xarray](https://docs.xarray.dev/en/stable/) - Library for working with labelled multi-dimensional arrays.\n",
    "- [sklearn (scikit-learn)](https://scikit-learn.org/stable/index.html) - Machine learning.\n",
    "- [earthkit.meteo](https://earthkit-plots.readthedocs.io/en/latest/) - Meteorological computations and statistical analysis.\n",
    "- [earthkit.plots](https://earthkit-plots.readthedocs.io/en/latest/) - Visualisation tools and templates designed for earth science data.\n",
    ":::"
   ]
  },
  {
   "cell_type": "code",
   "execution_count": 1,
   "id": "82e9cda4-98d5-40b9-b8ee-c703c3ba7602",
   "metadata": {},
   "outputs": [],
   "source": [
    "import json\n",
    "import pathlib\n",
    "import pickle\n",
    "\n",
    "import earthkit.meteo.stats as ekm_stats\n",
    "import earthkit.plots as ekp\n",
    "import numpy as np\n",
    "import pandas as pd\n",
    "import xarray as xr\n",
    "\n",
    "from sklearn.linear_model import LinearRegression\n",
    "from sklearn.pipeline import make_pipeline\n",
    "from sklearn.preprocessing import PolynomialFeatures"
   ]
  },
  {
   "cell_type": "markdown",
   "id": "6f91884d-2c6b-4a00-8ad8-b916422b66f8",
   "metadata": {},
   "source": [
    "### Set location\n",
    "\n",
    "Used for labelling and to locate data from previous steps of the workflow."
   ]
  },
  {
   "cell_type": "code",
   "execution_count": null,
   "id": "d14debe7-1a49-431b-ab65-e3cbf763054a",
   "metadata": {},
   "outputs": [],
   "source": [
    "location = \"Andalucía\""
   ]
  },
  {
   "cell_type": "markdown",
   "id": "98f2b1a5-1be1-42cf-b3f4-677edd7b38e9",
   "metadata": {},
   "source": [
    "### Path configuration"
   ]
  },
  {
   "cell_type": "code",
   "execution_count": 2,
   "id": "05617309-e104-4962-99a6-972c068098c4",
   "metadata": {},
   "outputs": [],
   "source": [
    "data_dir = pathlib.Path(\"./data\")"
   ]
  },
  {
   "cell_type": "markdown",
   "id": "67206b34-b050-4a59-812b-24bb17dd766c",
   "metadata": {},
   "source": [
    "## Step 1: Load FWI timeseries\n",
    "\n",
    "Load the FWI timeseries for all simulation for the given location.\n",
    "These were exported in the [historical climate](hazard_assessment_historical.ipynb) hazard assessment notebook."
   ]
  },
  {
   "cell_type": "code",
   "execution_count": 3,
   "id": "c3f263b2-c994-4ee8-8a43-66530e293924",
   "metadata": {},
   "outputs": [
    {
     "data": {
      "text/html": [
       "<div><svg style=\"position: absolute; width: 0; height: 0; overflow: hidden\">\n",
       "<defs>\n",
       "<symbol id=\"icon-database\" viewBox=\"0 0 32 32\">\n",
       "<path d=\"M16 0c-8.837 0-16 2.239-16 5v4c0 2.761 7.163 5 16 5s16-2.239 16-5v-4c0-2.761-7.163-5-16-5z\"></path>\n",
       "<path d=\"M16 17c-8.837 0-16-2.239-16-5v6c0 2.761 7.163 5 16 5s16-2.239 16-5v-6c0 2.761-7.163 5-16 5z\"></path>\n",
       "<path d=\"M16 26c-8.837 0-16-2.239-16-5v6c0 2.761 7.163 5 16 5s16-2.239 16-5v-6c0 2.761-7.163 5-16 5z\"></path>\n",
       "</symbol>\n",
       "<symbol id=\"icon-file-text2\" viewBox=\"0 0 32 32\">\n",
       "<path d=\"M28.681 7.159c-0.694-0.947-1.662-2.053-2.724-3.116s-2.169-2.030-3.116-2.724c-1.612-1.182-2.393-1.319-2.841-1.319h-15.5c-1.378 0-2.5 1.121-2.5 2.5v27c0 1.378 1.122 2.5 2.5 2.5h23c1.378 0 2.5-1.122 2.5-2.5v-19.5c0-0.448-0.137-1.23-1.319-2.841zM24.543 5.457c0.959 0.959 1.712 1.825 2.268 2.543h-4.811v-4.811c0.718 0.556 1.584 1.309 2.543 2.268zM28 29.5c0 0.271-0.229 0.5-0.5 0.5h-23c-0.271 0-0.5-0.229-0.5-0.5v-27c0-0.271 0.229-0.5 0.5-0.5 0 0 15.499-0 15.5 0v7c0 0.552 0.448 1 1 1h7v19.5z\"></path>\n",
       "<path d=\"M23 26h-14c-0.552 0-1-0.448-1-1s0.448-1 1-1h14c0.552 0 1 0.448 1 1s-0.448 1-1 1z\"></path>\n",
       "<path d=\"M23 22h-14c-0.552 0-1-0.448-1-1s0.448-1 1-1h14c0.552 0 1 0.448 1 1s-0.448 1-1 1z\"></path>\n",
       "<path d=\"M23 18h-14c-0.552 0-1-0.448-1-1s0.448-1 1-1h14c0.552 0 1 0.448 1 1s-0.448 1-1 1z\"></path>\n",
       "</symbol>\n",
       "</defs>\n",
       "</svg>\n",
       "<style>/* CSS stylesheet for displaying xarray objects in jupyterlab.\n",
       " *\n",
       " */\n",
       "\n",
       ":root {\n",
       "  --xr-font-color0: var(--jp-content-font-color0, rgba(0, 0, 0, 1));\n",
       "  --xr-font-color2: var(--jp-content-font-color2, rgba(0, 0, 0, 0.54));\n",
       "  --xr-font-color3: var(--jp-content-font-color3, rgba(0, 0, 0, 0.38));\n",
       "  --xr-border-color: var(--jp-border-color2, #e0e0e0);\n",
       "  --xr-disabled-color: var(--jp-layout-color3, #bdbdbd);\n",
       "  --xr-background-color: var(--jp-layout-color0, white);\n",
       "  --xr-background-color-row-even: var(--jp-layout-color1, white);\n",
       "  --xr-background-color-row-odd: var(--jp-layout-color2, #eeeeee);\n",
       "}\n",
       "\n",
       "html[theme=dark],\n",
       "body[data-theme=dark],\n",
       "body.vscode-dark {\n",
       "  --xr-font-color0: rgba(255, 255, 255, 1);\n",
       "  --xr-font-color2: rgba(255, 255, 255, 0.54);\n",
       "  --xr-font-color3: rgba(255, 255, 255, 0.38);\n",
       "  --xr-border-color: #1F1F1F;\n",
       "  --xr-disabled-color: #515151;\n",
       "  --xr-background-color: #111111;\n",
       "  --xr-background-color-row-even: #111111;\n",
       "  --xr-background-color-row-odd: #313131;\n",
       "}\n",
       "\n",
       ".xr-wrap {\n",
       "  display: block !important;\n",
       "  min-width: 300px;\n",
       "  max-width: 700px;\n",
       "}\n",
       "\n",
       ".xr-text-repr-fallback {\n",
       "  /* fallback to plain text repr when CSS is not injected (untrusted notebook) */\n",
       "  display: none;\n",
       "}\n",
       "\n",
       ".xr-header {\n",
       "  padding-top: 6px;\n",
       "  padding-bottom: 6px;\n",
       "  margin-bottom: 4px;\n",
       "  border-bottom: solid 1px var(--xr-border-color);\n",
       "}\n",
       "\n",
       ".xr-header > div,\n",
       ".xr-header > ul {\n",
       "  display: inline;\n",
       "  margin-top: 0;\n",
       "  margin-bottom: 0;\n",
       "}\n",
       "\n",
       ".xr-obj-type,\n",
       ".xr-array-name {\n",
       "  margin-left: 2px;\n",
       "  margin-right: 10px;\n",
       "}\n",
       "\n",
       ".xr-obj-type {\n",
       "  color: var(--xr-font-color2);\n",
       "}\n",
       "\n",
       ".xr-sections {\n",
       "  padding-left: 0 !important;\n",
       "  display: grid;\n",
       "  grid-template-columns: 150px auto auto 1fr 20px 20px;\n",
       "}\n",
       "\n",
       ".xr-section-item {\n",
       "  display: contents;\n",
       "}\n",
       "\n",
       ".xr-section-item input {\n",
       "  display: none;\n",
       "}\n",
       "\n",
       ".xr-section-item input + label {\n",
       "  color: var(--xr-disabled-color);\n",
       "}\n",
       "\n",
       ".xr-section-item input:enabled + label {\n",
       "  cursor: pointer;\n",
       "  color: var(--xr-font-color2);\n",
       "}\n",
       "\n",
       ".xr-section-item input:enabled + label:hover {\n",
       "  color: var(--xr-font-color0);\n",
       "}\n",
       "\n",
       ".xr-section-summary {\n",
       "  grid-column: 1;\n",
       "  color: var(--xr-font-color2);\n",
       "  font-weight: 500;\n",
       "}\n",
       "\n",
       ".xr-section-summary > span {\n",
       "  display: inline-block;\n",
       "  padding-left: 0.5em;\n",
       "}\n",
       "\n",
       ".xr-section-summary-in:disabled + label {\n",
       "  color: var(--xr-font-color2);\n",
       "}\n",
       "\n",
       ".xr-section-summary-in + label:before {\n",
       "  display: inline-block;\n",
       "  content: '►';\n",
       "  font-size: 11px;\n",
       "  width: 15px;\n",
       "  text-align: center;\n",
       "}\n",
       "\n",
       ".xr-section-summary-in:disabled + label:before {\n",
       "  color: var(--xr-disabled-color);\n",
       "}\n",
       "\n",
       ".xr-section-summary-in:checked + label:before {\n",
       "  content: '▼';\n",
       "}\n",
       "\n",
       ".xr-section-summary-in:checked + label > span {\n",
       "  display: none;\n",
       "}\n",
       "\n",
       ".xr-section-summary,\n",
       ".xr-section-inline-details {\n",
       "  padding-top: 4px;\n",
       "  padding-bottom: 4px;\n",
       "}\n",
       "\n",
       ".xr-section-inline-details {\n",
       "  grid-column: 2 / -1;\n",
       "}\n",
       "\n",
       ".xr-section-details {\n",
       "  display: none;\n",
       "  grid-column: 1 / -1;\n",
       "  margin-bottom: 5px;\n",
       "}\n",
       "\n",
       ".xr-section-summary-in:checked ~ .xr-section-details {\n",
       "  display: contents;\n",
       "}\n",
       "\n",
       ".xr-array-wrap {\n",
       "  grid-column: 1 / -1;\n",
       "  display: grid;\n",
       "  grid-template-columns: 20px auto;\n",
       "}\n",
       "\n",
       ".xr-array-wrap > label {\n",
       "  grid-column: 1;\n",
       "  vertical-align: top;\n",
       "}\n",
       "\n",
       ".xr-preview {\n",
       "  color: var(--xr-font-color3);\n",
       "}\n",
       "\n",
       ".xr-array-preview,\n",
       ".xr-array-data {\n",
       "  padding: 0 5px !important;\n",
       "  grid-column: 2;\n",
       "}\n",
       "\n",
       ".xr-array-data,\n",
       ".xr-array-in:checked ~ .xr-array-preview {\n",
       "  display: none;\n",
       "}\n",
       "\n",
       ".xr-array-in:checked ~ .xr-array-data,\n",
       ".xr-array-preview {\n",
       "  display: inline-block;\n",
       "}\n",
       "\n",
       ".xr-dim-list {\n",
       "  display: inline-block !important;\n",
       "  list-style: none;\n",
       "  padding: 0 !important;\n",
       "  margin: 0;\n",
       "}\n",
       "\n",
       ".xr-dim-list li {\n",
       "  display: inline-block;\n",
       "  padding: 0;\n",
       "  margin: 0;\n",
       "}\n",
       "\n",
       ".xr-dim-list:before {\n",
       "  content: '(';\n",
       "}\n",
       "\n",
       ".xr-dim-list:after {\n",
       "  content: ')';\n",
       "}\n",
       "\n",
       ".xr-dim-list li:not(:last-child):after {\n",
       "  content: ',';\n",
       "  padding-right: 5px;\n",
       "}\n",
       "\n",
       ".xr-has-index {\n",
       "  font-weight: bold;\n",
       "}\n",
       "\n",
       ".xr-var-list,\n",
       ".xr-var-item {\n",
       "  display: contents;\n",
       "}\n",
       "\n",
       ".xr-var-item > div,\n",
       ".xr-var-item label,\n",
       ".xr-var-item > .xr-var-name span {\n",
       "  background-color: var(--xr-background-color-row-even);\n",
       "  margin-bottom: 0;\n",
       "}\n",
       "\n",
       ".xr-var-item > .xr-var-name:hover span {\n",
       "  padding-right: 5px;\n",
       "}\n",
       "\n",
       ".xr-var-list > li:nth-child(odd) > div,\n",
       ".xr-var-list > li:nth-child(odd) > label,\n",
       ".xr-var-list > li:nth-child(odd) > .xr-var-name span {\n",
       "  background-color: var(--xr-background-color-row-odd);\n",
       "}\n",
       "\n",
       ".xr-var-name {\n",
       "  grid-column: 1;\n",
       "}\n",
       "\n",
       ".xr-var-dims {\n",
       "  grid-column: 2;\n",
       "}\n",
       "\n",
       ".xr-var-dtype {\n",
       "  grid-column: 3;\n",
       "  text-align: right;\n",
       "  color: var(--xr-font-color2);\n",
       "}\n",
       "\n",
       ".xr-var-preview {\n",
       "  grid-column: 4;\n",
       "}\n",
       "\n",
       ".xr-index-preview {\n",
       "  grid-column: 2 / 5;\n",
       "  color: var(--xr-font-color2);\n",
       "}\n",
       "\n",
       ".xr-var-name,\n",
       ".xr-var-dims,\n",
       ".xr-var-dtype,\n",
       ".xr-preview,\n",
       ".xr-attrs dt {\n",
       "  white-space: nowrap;\n",
       "  overflow: hidden;\n",
       "  text-overflow: ellipsis;\n",
       "  padding-right: 10px;\n",
       "}\n",
       "\n",
       ".xr-var-name:hover,\n",
       ".xr-var-dims:hover,\n",
       ".xr-var-dtype:hover,\n",
       ".xr-attrs dt:hover {\n",
       "  overflow: visible;\n",
       "  width: auto;\n",
       "  z-index: 1;\n",
       "}\n",
       "\n",
       ".xr-var-attrs,\n",
       ".xr-var-data,\n",
       ".xr-index-data {\n",
       "  display: none;\n",
       "  background-color: var(--xr-background-color) !important;\n",
       "  padding-bottom: 5px !important;\n",
       "}\n",
       "\n",
       ".xr-var-attrs-in:checked ~ .xr-var-attrs,\n",
       ".xr-var-data-in:checked ~ .xr-var-data,\n",
       ".xr-index-data-in:checked ~ .xr-index-data {\n",
       "  display: block;\n",
       "}\n",
       "\n",
       ".xr-var-data > table {\n",
       "  float: right;\n",
       "}\n",
       "\n",
       ".xr-var-name span,\n",
       ".xr-var-data,\n",
       ".xr-index-name div,\n",
       ".xr-index-data,\n",
       ".xr-attrs {\n",
       "  padding-left: 25px !important;\n",
       "}\n",
       "\n",
       ".xr-attrs,\n",
       ".xr-var-attrs,\n",
       ".xr-var-data,\n",
       ".xr-index-data {\n",
       "  grid-column: 1 / -1;\n",
       "}\n",
       "\n",
       "dl.xr-attrs {\n",
       "  padding: 0;\n",
       "  margin: 0;\n",
       "  display: grid;\n",
       "  grid-template-columns: 125px auto;\n",
       "}\n",
       "\n",
       ".xr-attrs dt,\n",
       ".xr-attrs dd {\n",
       "  padding: 0;\n",
       "  margin: 0;\n",
       "  float: left;\n",
       "  padding-right: 10px;\n",
       "  width: auto;\n",
       "}\n",
       "\n",
       ".xr-attrs dt {\n",
       "  font-weight: normal;\n",
       "  grid-column: 1;\n",
       "}\n",
       "\n",
       ".xr-attrs dt:hover span {\n",
       "  display: inline-block;\n",
       "  background: var(--xr-background-color);\n",
       "  padding-right: 10px;\n",
       "}\n",
       "\n",
       ".xr-attrs dd {\n",
       "  grid-column: 2;\n",
       "  white-space: pre-wrap;\n",
       "  word-break: break-all;\n",
       "}\n",
       "\n",
       ".xr-icon-database,\n",
       ".xr-icon-file-text2,\n",
       ".xr-no-icon {\n",
       "  display: inline-block;\n",
       "  vertical-align: middle;\n",
       "  width: 1em;\n",
       "  height: 1.5em !important;\n",
       "  stroke-width: 0;\n",
       "  stroke: currentColor;\n",
       "  fill: currentColor;\n",
       "}\n",
       "</style><pre class='xr-text-repr-fallback'>&lt;xarray.DataArray &#x27;fwinx&#x27; (dp: 6, dt: 6, time: 10957)&gt; Size: 3MB\n",
       "[394452 values with dtype=float64]\n",
       "Coordinates:\n",
       "  * dt          (dt) float64 48B 0.0 1.0 2.0 3.0 4.0 5.0\n",
       "    step        timedelta64[ns] 8B ...\n",
       "    surface     float64 8B ...\n",
       "  * time        (time) datetime64[ns] 88kB 1981-01-01 1981-01-02 ... 2010-12-31\n",
       "    valid_time  (time) datetime64[ns] 88kB ...\n",
       "  * dp          (dp) float64 48B -40.0 -20.0 0.0 20.0 40.0 60.0</pre><div class='xr-wrap' style='display:none'><div class='xr-header'><div class='xr-obj-type'>xarray.DataArray</div><div class='xr-array-name'>'fwinx'</div><ul class='xr-dim-list'><li><span class='xr-has-index'>dp</span>: 6</li><li><span class='xr-has-index'>dt</span>: 6</li><li><span class='xr-has-index'>time</span>: 10957</li></ul></div><ul class='xr-sections'><li class='xr-section-item'><div class='xr-array-wrap'><input id='section-89cb9b60-6c7d-4e14-b73b-12b5ab6cd316' class='xr-array-in' type='checkbox' checked><label for='section-89cb9b60-6c7d-4e14-b73b-12b5ab6cd316' title='Show/hide data repr'><svg class='icon xr-icon-database'><use xlink:href='#icon-database'></use></svg></label><div class='xr-array-preview xr-preview'><span>...</span></div><div class='xr-array-data'><pre>[394452 values with dtype=float64]</pre></div></div></li><li class='xr-section-item'><input id='section-bef44f1d-7d43-40de-9377-e54be954296f' class='xr-section-summary-in' type='checkbox'  checked><label for='section-bef44f1d-7d43-40de-9377-e54be954296f' class='xr-section-summary' >Coordinates: <span>(6)</span></label><div class='xr-section-inline-details'></div><div class='xr-section-details'><ul class='xr-var-list'><li class='xr-var-item'><div class='xr-var-name'><span class='xr-has-index'>dt</span></div><div class='xr-var-dims'>(dt)</div><div class='xr-var-dtype'>float64</div><div class='xr-var-preview xr-preview'>0.0 1.0 2.0 3.0 4.0 5.0</div><input id='attrs-4b77f8f1-c516-4604-9f3b-41214ad0f9ec' class='xr-var-attrs-in' type='checkbox' disabled><label for='attrs-4b77f8f1-c516-4604-9f3b-41214ad0f9ec' title='Show/Hide attributes'><svg class='icon xr-icon-file-text2'><use xlink:href='#icon-file-text2'></use></svg></label><input id='data-41c986e5-b27a-4082-8dab-0c5fd90e32d3' class='xr-var-data-in' type='checkbox'><label for='data-41c986e5-b27a-4082-8dab-0c5fd90e32d3' title='Show/Hide data repr'><svg class='icon xr-icon-database'><use xlink:href='#icon-database'></use></svg></label><div class='xr-var-attrs'><dl class='xr-attrs'></dl></div><div class='xr-var-data'><pre>array([0., 1., 2., 3., 4., 5.])</pre></div></li><li class='xr-var-item'><div class='xr-var-name'><span>step</span></div><div class='xr-var-dims'>()</div><div class='xr-var-dtype'>timedelta64[ns]</div><div class='xr-var-preview xr-preview'>...</div><input id='attrs-33f2caef-59b4-40e8-9b27-211552cb2fa9' class='xr-var-attrs-in' type='checkbox' ><label for='attrs-33f2caef-59b4-40e8-9b27-211552cb2fa9' title='Show/Hide attributes'><svg class='icon xr-icon-file-text2'><use xlink:href='#icon-file-text2'></use></svg></label><input id='data-982cde9c-e732-4251-8fe9-0326c9272bec' class='xr-var-data-in' type='checkbox'><label for='data-982cde9c-e732-4251-8fe9-0326c9272bec' title='Show/Hide data repr'><svg class='icon xr-icon-database'><use xlink:href='#icon-database'></use></svg></label><div class='xr-var-attrs'><dl class='xr-attrs'><dt><span>long_name :</span></dt><dd>time since forecast_reference_time</dd><dt><span>standard_name :</span></dt><dd>forecast_period</dd></dl></div><div class='xr-var-data'><pre>[1 values with dtype=timedelta64[ns]]</pre></div></li><li class='xr-var-item'><div class='xr-var-name'><span>surface</span></div><div class='xr-var-dims'>()</div><div class='xr-var-dtype'>float64</div><div class='xr-var-preview xr-preview'>...</div><input id='attrs-22d58a61-de88-4814-8400-3291ee4030eb' class='xr-var-attrs-in' type='checkbox' ><label for='attrs-22d58a61-de88-4814-8400-3291ee4030eb' title='Show/Hide attributes'><svg class='icon xr-icon-file-text2'><use xlink:href='#icon-file-text2'></use></svg></label><input id='data-ea68668f-2954-46f9-b114-b46ab60d2a15' class='xr-var-data-in' type='checkbox'><label for='data-ea68668f-2954-46f9-b114-b46ab60d2a15' title='Show/Hide data repr'><svg class='icon xr-icon-database'><use xlink:href='#icon-database'></use></svg></label><div class='xr-var-attrs'><dl class='xr-attrs'><dt><span>long_name :</span></dt><dd>original GRIB coordinate for key: level(surface)</dd><dt><span>units :</span></dt><dd>1</dd></dl></div><div class='xr-var-data'><pre>[1 values with dtype=float64]</pre></div></li><li class='xr-var-item'><div class='xr-var-name'><span class='xr-has-index'>time</span></div><div class='xr-var-dims'>(time)</div><div class='xr-var-dtype'>datetime64[ns]</div><div class='xr-var-preview xr-preview'>1981-01-01 ... 2010-12-31</div><input id='attrs-f5230cd7-4fd4-4520-81f6-1bd34149e65a' class='xr-var-attrs-in' type='checkbox' ><label for='attrs-f5230cd7-4fd4-4520-81f6-1bd34149e65a' title='Show/Hide attributes'><svg class='icon xr-icon-file-text2'><use xlink:href='#icon-file-text2'></use></svg></label><input id='data-c56cc19f-c92f-4800-b7d6-f81832a1a6d4' class='xr-var-data-in' type='checkbox'><label for='data-c56cc19f-c92f-4800-b7d6-f81832a1a6d4' title='Show/Hide data repr'><svg class='icon xr-icon-database'><use xlink:href='#icon-database'></use></svg></label><div class='xr-var-attrs'><dl class='xr-attrs'><dt><span>long_name :</span></dt><dd>initial time of forecast</dd><dt><span>standard_name :</span></dt><dd>forecast_reference_time</dd></dl></div><div class='xr-var-data'><pre>array([&#x27;1981-01-01T00:00:00.000000000&#x27;, &#x27;1981-01-02T00:00:00.000000000&#x27;,\n",
       "       &#x27;1981-01-03T00:00:00.000000000&#x27;, ..., &#x27;2010-12-29T00:00:00.000000000&#x27;,\n",
       "       &#x27;2010-12-30T00:00:00.000000000&#x27;, &#x27;2010-12-31T00:00:00.000000000&#x27;],\n",
       "      dtype=&#x27;datetime64[ns]&#x27;)</pre></div></li><li class='xr-var-item'><div class='xr-var-name'><span>valid_time</span></div><div class='xr-var-dims'>(time)</div><div class='xr-var-dtype'>datetime64[ns]</div><div class='xr-var-preview xr-preview'>...</div><input id='attrs-9105d376-2174-4c8b-a0b4-35e306f63120' class='xr-var-attrs-in' type='checkbox' ><label for='attrs-9105d376-2174-4c8b-a0b4-35e306f63120' title='Show/Hide attributes'><svg class='icon xr-icon-file-text2'><use xlink:href='#icon-file-text2'></use></svg></label><input id='data-488ee1f0-b0ae-40b4-9d13-c1a3574047c8' class='xr-var-data-in' type='checkbox'><label for='data-488ee1f0-b0ae-40b4-9d13-c1a3574047c8' title='Show/Hide data repr'><svg class='icon xr-icon-database'><use xlink:href='#icon-database'></use></svg></label><div class='xr-var-attrs'><dl class='xr-attrs'><dt><span>long_name :</span></dt><dd>time</dd><dt><span>standard_name :</span></dt><dd>time</dd></dl></div><div class='xr-var-data'><pre>[10957 values with dtype=datetime64[ns]]</pre></div></li><li class='xr-var-item'><div class='xr-var-name'><span class='xr-has-index'>dp</span></div><div class='xr-var-dims'>(dp)</div><div class='xr-var-dtype'>float64</div><div class='xr-var-preview xr-preview'>-40.0 -20.0 0.0 20.0 40.0 60.0</div><input id='attrs-2007f184-c693-40ee-aa34-3fc8e500f06e' class='xr-var-attrs-in' type='checkbox' disabled><label for='attrs-2007f184-c693-40ee-aa34-3fc8e500f06e' title='Show/Hide attributes'><svg class='icon xr-icon-file-text2'><use xlink:href='#icon-file-text2'></use></svg></label><input id='data-87eeda21-cbbf-46fd-a8b1-2149bbf4653f' class='xr-var-data-in' type='checkbox'><label for='data-87eeda21-cbbf-46fd-a8b1-2149bbf4653f' title='Show/Hide data repr'><svg class='icon xr-icon-database'><use xlink:href='#icon-database'></use></svg></label><div class='xr-var-attrs'><dl class='xr-attrs'></dl></div><div class='xr-var-data'><pre>array([-40., -20.,   0.,  20.,  40.,  60.])</pre></div></li></ul></div></li><li class='xr-section-item'><input id='section-b0a6ae0c-179b-4422-8e21-a672baea83a3' class='xr-section-summary-in' type='checkbox'  ><label for='section-b0a6ae0c-179b-4422-8e21-a672baea83a3' class='xr-section-summary' >Indexes: <span>(3)</span></label><div class='xr-section-inline-details'></div><div class='xr-section-details'><ul class='xr-var-list'><li class='xr-var-item'><div class='xr-index-name'><div>dt</div></div><div class='xr-index-preview'>PandasIndex</div><div></div><input id='index-3264ced0-6e9a-4ccb-a35f-c45ce7cffe64' class='xr-index-data-in' type='checkbox'/><label for='index-3264ced0-6e9a-4ccb-a35f-c45ce7cffe64' title='Show/Hide index repr'><svg class='icon xr-icon-database'><use xlink:href='#icon-database'></use></svg></label><div class='xr-index-data'><pre>PandasIndex(Index([0.0, 1.0, 2.0, 3.0, 4.0, 5.0], dtype=&#x27;float64&#x27;, name=&#x27;dt&#x27;))</pre></div></li><li class='xr-var-item'><div class='xr-index-name'><div>time</div></div><div class='xr-index-preview'>PandasIndex</div><div></div><input id='index-ce2718fd-5ac0-49f6-a574-578ea2a2c75a' class='xr-index-data-in' type='checkbox'/><label for='index-ce2718fd-5ac0-49f6-a574-578ea2a2c75a' title='Show/Hide index repr'><svg class='icon xr-icon-database'><use xlink:href='#icon-database'></use></svg></label><div class='xr-index-data'><pre>PandasIndex(DatetimeIndex([&#x27;1981-01-01&#x27;, &#x27;1981-01-02&#x27;, &#x27;1981-01-03&#x27;, &#x27;1981-01-04&#x27;,\n",
       "               &#x27;1981-01-05&#x27;, &#x27;1981-01-06&#x27;, &#x27;1981-01-07&#x27;, &#x27;1981-01-08&#x27;,\n",
       "               &#x27;1981-01-09&#x27;, &#x27;1981-01-10&#x27;,\n",
       "               ...\n",
       "               &#x27;2010-12-22&#x27;, &#x27;2010-12-23&#x27;, &#x27;2010-12-24&#x27;, &#x27;2010-12-25&#x27;,\n",
       "               &#x27;2010-12-26&#x27;, &#x27;2010-12-27&#x27;, &#x27;2010-12-28&#x27;, &#x27;2010-12-29&#x27;,\n",
       "               &#x27;2010-12-30&#x27;, &#x27;2010-12-31&#x27;],\n",
       "              dtype=&#x27;datetime64[ns]&#x27;, name=&#x27;time&#x27;, length=10957, freq=None))</pre></div></li><li class='xr-var-item'><div class='xr-index-name'><div>dp</div></div><div class='xr-index-preview'>PandasIndex</div><div></div><input id='index-69a2ea1f-0c24-4841-a047-deeacb750b77' class='xr-index-data-in' type='checkbox'/><label for='index-69a2ea1f-0c24-4841-a047-deeacb750b77' title='Show/Hide index repr'><svg class='icon xr-icon-database'><use xlink:href='#icon-database'></use></svg></label><div class='xr-index-data'><pre>PandasIndex(Index([              -40.0, -19.999999999999996,                 0.0,\n",
       "        19.999999999999996,   39.99999999999999,   60.00000000000001],\n",
       "      dtype=&#x27;float64&#x27;, name=&#x27;dp&#x27;))</pre></div></li></ul></div></li><li class='xr-section-item'><input id='section-1aec0e06-40df-4305-97f3-a853793ecd4e' class='xr-section-summary-in' type='checkbox' disabled ><label for='section-1aec0e06-40df-4305-97f3-a853793ecd4e' class='xr-section-summary'  title='Expand/collapse section'>Attributes: <span>(0)</span></label><div class='xr-section-inline-details'></div><div class='xr-section-details'><dl class='xr-attrs'></dl></div></li></ul></div></div>"
      ],
      "text/plain": [
       "<xarray.DataArray 'fwinx' (dp: 6, dt: 6, time: 10957)> Size: 3MB\n",
       "[394452 values with dtype=float64]\n",
       "Coordinates:\n",
       "  * dt          (dt) float64 48B 0.0 1.0 2.0 3.0 4.0 5.0\n",
       "    step        timedelta64[ns] 8B ...\n",
       "    surface     float64 8B ...\n",
       "  * time        (time) datetime64[ns] 88kB 1981-01-01 1981-01-02 ... 2010-12-31\n",
       "    valid_time  (time) datetime64[ns] 88kB ...\n",
       "  * dp          (dp) float64 48B -40.0 -20.0 0.0 20.0 40.0 60.0"
      ]
     },
     "execution_count": 3,
     "metadata": {},
     "output_type": "execute_result"
    }
   ],
   "source": [
    "location_fwi = xr.open_dataarray(data_dir / location / \"fwi_timeseries.nc\")\n",
    "location_fwi"
   ]
  },
  {
   "cell_type": "markdown",
   "id": "ff4dcf61-764a-435d-a05f-d63fdbb54b7b",
   "metadata": {},
   "source": [
    "## Step 2: Threshold selection\n",
    "\n",
    "Response surface models are constructed for the probability of exceedance of a FWI threshold (step 3) and the length of the fire season (step 4), also defined by the exceedance of a FWI threshold.\n",
    "The FWI threshold to be used in the analysis can be freely chosen:"
   ]
  },
  {
   "cell_type": "code",
   "execution_count": 4,
   "id": "e3252ebf-0dab-4bfa-8aae-895e51a3b4e8",
   "metadata": {},
   "outputs": [],
   "source": [
    "threshold = 60."
   ]
  },
  {
   "attachments": {},
   "cell_type": "markdown",
   "id": "52610a70-395d-486f-87fa-49faec9ab33b",
   "metadata": {},
   "source": [
    ":::{tip}\n",
    "\n",
    "Adapt the threshold to your chosen location and interest.\n",
    "You can use local expertise and information from the FWI timeseries exploration in the [historical climate](hazard_assessment_historical.ipynb) notebook to find a meaningful value for your application.\n",
    ":::\n",
    "\n",
    "Because the fitted statistical model of yearly FWI maxima also provides information outside of the range covered by the input dataset (in particular for FWI thresholds with return periods longer than the span of the dataset), any threshold value will work in the following response surface analysis.\n",
    "Nevertheless, we compute the range of FWI values fully covered by the input dataset to be aware of when we are extrapolating outside of this range based on the statistical model:"
   ]
  },
  {
   "cell_type": "code",
   "execution_count": 5,
   "id": "1f4d4317-0e1f-4eaf-aaa8-e75db994640a",
   "metadata": {},
   "outputs": [],
   "source": [
    "# FWI maximum of each year for all simulations\n",
    "fwi_max = location_fwi.groupby(location_fwi.coords[\"time\"].dt.year).max()"
   ]
  },
  {
   "cell_type": "code",
   "execution_count": 6,
   "id": "a1d6b754-f850-46d6-bb22-6b7ca7ddd666",
   "metadata": {},
   "outputs": [
    {
     "name": "stdout",
     "output_type": "stream",
     "text": [
      "The input data range covers FWI values from 55.462 to 67.259\n"
     ]
    }
   ],
   "source": [
    "# Overall smallest valid is largest of all smallest across simulations\n",
    "upper_range = float(fwi_max.max(dim=\"year\").min())\n",
    "# Overall largest valid is smallest of all largest across simulations\n",
    "lower_range = float(fwi_max.min(dim=\"year\").max().values)\n",
    "\n",
    "print(f\"The input data range covers FWI values from {lower_range:.3f} to {upper_range:.3f}\")"
   ]
  },
  {
   "cell_type": "markdown",
   "id": "590071f6-9edc-4685-b645-ff2c2e295dae",
   "metadata": {},
   "source": [
    "## Step 3: Response surface for probability of exceedance\n",
    "\n",
    "We fit a response surface for the probability of exceedance (PE) of this threshold to data from the (unperturbed and perturbed) historical FWI simulations.\n",
    "The fitted response surface allows us to estimate the probability of exceedance as a function of temperature and precipitation perturbations to the historical climate.\n",
    "\n",
    "Fit a statistical model to yearly FWI maxima for all simulations:"
   ]
  },
  {
   "cell_type": "code",
   "execution_count": 7,
   "id": "de4933ff-534d-4c81-9855-9cd966c89573",
   "metadata": {},
   "outputs": [],
   "source": [
    "fwi_dist = ekm_stats.GumbelDistribution.fit(fwi_max, axis=-1)"
   ]
  },
  {
   "cell_type": "markdown",
   "id": "0364078c-2f9c-4d94-bc37-82e68ab31227",
   "metadata": {},
   "source": [
    "Use the statistical model to compute the probability of exceedance of the threshold:"
   ]
  },
  {
   "cell_type": "code",
   "execution_count": 8,
   "id": "4979fcbf-b6e9-4456-a555-a1d5473ab7a1",
   "metadata": {},
   "outputs": [],
   "source": [
    "# Multiply probability by 100 for values in %\n",
    "pe = 100. * fwi_dist.cdf(threshold)"
   ]
  },
  {
   "cell_type": "markdown",
   "id": "561c1ed7-2823-4ce1-8bc6-d9b0b8d35a88",
   "metadata": {},
   "source": [
    "### Response table\n",
    "\n",
    "The 2-dimensional array of exceedance probabilities is already our discrete response surface.\n",
    "We package it as a conveniently accessible table:"
   ]
  },
  {
   "cell_type": "code",
   "execution_count": 9,
   "id": "1407df6a-4918-4739-84ad-ba04c7c8d202",
   "metadata": {},
   "outputs": [
    {
     "data": {
      "text/html": [
       "<div>\n",
       "<style scoped>\n",
       "    .dataframe tbody tr th:only-of-type {\n",
       "        vertical-align: middle;\n",
       "    }\n",
       "\n",
       "    .dataframe tbody tr th {\n",
       "        vertical-align: top;\n",
       "    }\n",
       "\n",
       "    .dataframe thead th {\n",
       "        text-align: right;\n",
       "    }\n",
       "</style>\n",
       "<table border=\"1\" class=\"dataframe\">\n",
       "  <thead>\n",
       "    <tr style=\"text-align: right;\">\n",
       "      <th>dt</th>\n",
       "      <th>0.0</th>\n",
       "      <th>1.0</th>\n",
       "      <th>2.0</th>\n",
       "      <th>3.0</th>\n",
       "      <th>4.0</th>\n",
       "      <th>5.0</th>\n",
       "    </tr>\n",
       "    <tr>\n",
       "      <th>dp</th>\n",
       "      <th></th>\n",
       "      <th></th>\n",
       "      <th></th>\n",
       "      <th></th>\n",
       "      <th></th>\n",
       "      <th></th>\n",
       "    </tr>\n",
       "  </thead>\n",
       "  <tbody>\n",
       "    <tr>\n",
       "      <th>-40.0</th>\n",
       "      <td>25.4</td>\n",
       "      <td>32.8</td>\n",
       "      <td>41.5</td>\n",
       "      <td>51.3</td>\n",
       "      <td>61.9</td>\n",
       "      <td>72.4</td>\n",
       "    </tr>\n",
       "    <tr>\n",
       "      <th>-20.0</th>\n",
       "      <td>22.4</td>\n",
       "      <td>29.2</td>\n",
       "      <td>37.5</td>\n",
       "      <td>47.0</td>\n",
       "      <td>57.5</td>\n",
       "      <td>68.3</td>\n",
       "    </tr>\n",
       "    <tr>\n",
       "      <th>0.0</th>\n",
       "      <td>19.9</td>\n",
       "      <td>26.2</td>\n",
       "      <td>33.9</td>\n",
       "      <td>43.1</td>\n",
       "      <td>53.5</td>\n",
       "      <td>64.4</td>\n",
       "    </tr>\n",
       "    <tr>\n",
       "      <th>20.0</th>\n",
       "      <td>18.0</td>\n",
       "      <td>23.8</td>\n",
       "      <td>31.1</td>\n",
       "      <td>39.9</td>\n",
       "      <td>49.9</td>\n",
       "      <td>60.9</td>\n",
       "    </tr>\n",
       "    <tr>\n",
       "      <th>40.0</th>\n",
       "      <td>16.4</td>\n",
       "      <td>21.9</td>\n",
       "      <td>28.8</td>\n",
       "      <td>37.2</td>\n",
       "      <td>47.0</td>\n",
       "      <td>57.9</td>\n",
       "    </tr>\n",
       "    <tr>\n",
       "      <th>60.0</th>\n",
       "      <td>15.1</td>\n",
       "      <td>20.2</td>\n",
       "      <td>26.7</td>\n",
       "      <td>34.7</td>\n",
       "      <td>44.3</td>\n",
       "      <td>55.0</td>\n",
       "    </tr>\n",
       "  </tbody>\n",
       "</table>\n",
       "</div>"
      ],
      "text/plain": [
       "dt      0.0   1.0   2.0   3.0   4.0   5.0\n",
       "dp                                       \n",
       "-40.0  25.4  32.8  41.5  51.3  61.9  72.4\n",
       "-20.0  22.4  29.2  37.5  47.0  57.5  68.3\n",
       " 0.0   19.9  26.2  33.9  43.1  53.5  64.4\n",
       " 20.0  18.0  23.8  31.1  39.9  49.9  60.9\n",
       " 40.0  16.4  21.9  28.8  37.2  47.0  57.9\n",
       " 60.0  15.1  20.2  26.7  34.7  44.3  55.0"
      ]
     },
     "execution_count": 9,
     "metadata": {},
     "output_type": "execute_result"
    }
   ],
   "source": [
    "pe_response = (\n",
    "    pd.DataFrame.from_records(\n",
    "        pe,\n",
    "        index=fwi_max.coords[\"dp\"].to_series(),\n",
    "        columns=fwi_max.coords[\"dt\"].to_series()\n",
    "    )\n",
    "    .stack()\n",
    "    .rename(\"PE\")\n",
    ")\n",
    "\n",
    "# Display table\n",
    "pe_response.unstack().round(1)"
   ]
  },
  {
   "cell_type": "markdown",
   "id": "564e518c-6fea-4e28-9cb6-9c4aa7bb5b86",
   "metadata": {},
   "source": [
    "For example, from a response table where\n",
    "\n",
    "```\n",
    "   dt   0.0   1.0   2.0\n",
    "   dp\n",
    "-20.0    28    32    41\n",
    "  0.0    23    26    27\n",
    " 20.0    11    15    26\n",
    "```\n",
    "\n",
    "we can see that the probability of exceedance of the selected FWI threshold in a year is estimated to increase from 23% to 27% in a climate that is 2°C warmer (`dp=0.0`, `dt=2.0`) than the (unperturbed) historical climate (`dp=0.0`, `dt=0.0`).\n",
    "If temperatures remain unperturbed compared to the historical reference period (`dt=0.0`) but precipitation increases by 20% instead (`dp=20.0`), the probability of exceedance decreases to 11%.\n",
    "\n",
    "Importantly, the response surface captures **synergistic** and **antagonistic** effects.\n",
    "In a climate with 20% more precipitation *and* 2°C warming relative to the historical reference, the PE for the selected FWI threshold *increases* by 3% (to 26%) according to the table in the example.\n",
    "In contrast, a naive addition of the individual effects of precipitation (decrease by 12%) and temperature (increase by 4%) as determined above would have suggested an overall decrease.\n",
    "\n",
    ":::{note}\n",
    "To convert the probability of exceedance to a return period, take the reciprocal.\n",
    "E.g., the corresponding return period for a probability of exceedance of 23% is\n",
    "$$\\frac{1}{23\\%} = \\frac{1}{0.23} = 4.348,$$\n",
    "i.e., about 4 years and 127 days.\n",
    ":::"
   ]
  },
  {
   "cell_type": "markdown",
   "id": "f7fd7585-9c08-4777-8b86-c6a3fd50dfb5",
   "metadata": {},
   "source": [
    "We colour the table to get a quick visual overview of the PE estimates for all perturbed simulations (note the flipped y/dp axis in the plot compared to the table):"
   ]
  },
  {
   "cell_type": "code",
   "execution_count": 10,
   "id": "9aefec0e-fd19-4618-b09c-1b904872a0d1",
   "metadata": {},
   "outputs": [
    {
     "data": {
      "text/plain": [
       "Text(0, 0.5, 'Precipitation change (%)')"
      ]
     },
     "execution_count": 10,
     "metadata": {},
     "output_type": "execute_result"
    },
    {
     "data": {
      "image/png": "[encoded data removed]",
      "text/plain": [
       "<Figure size 700x600 with 2 Axes>"
      ]
     },
     "metadata": {},
     "output_type": "display_data"
    }
   ],
   "source": [
    "pe_plot_style_absolute = ekp.styles.Style(\n",
    "    levels=[0, 10, 20, 30, 40, 50, 60, 70, 80, 90, 100],\n",
    "    colors=\"YlOrBr\",\n",
    "    units_label=\"%\"\n",
    ")\n",
    "\n",
    "subplot = ekp.Subplot()\n",
    "subplot.title(f\"Probability of exceeding an FWI of {threshold} in {location}\")\n",
    "\n",
    "subplot.block(pe_response.to_xarray(), style=pe_plot_style_absolute)\n",
    "subplot.legend()\n",
    "\n",
    "subplot.ax.set_xlabel(\"Temperature change (°C)\")\n",
    "subplot.ax.set_ylabel(\"Precipitation change (%)\")"
   ]
  },
  {
   "cell_type": "markdown",
   "id": "4ced202c-3b32-4066-adbe-5e154822b65f",
   "metadata": {},
   "source": [
    "### Response surface\n",
    "\n",
    "While the colorized table above already gives a good impression of the underlying response surface, we can enhance the visualization by fitting a continuous surface to the data points from the table."
   ]
  },
  {
   "cell_type": "code",
   "execution_count": 11,
   "id": "25810e7f-31c9-4e6c-b184-042a9369f03a",
   "metadata": {},
   "outputs": [],
   "source": [
    "def fit_response_surface(data, y, x1=\"dp\", x2=\"dt\", degree=4):\n",
    "    # Data prepared for regression\n",
    "    df = data.reset_index()\n",
    "    # Polynomial regression\n",
    "    model = make_pipeline(\n",
    "        PolynomialFeatures(degree=degree),\n",
    "        LinearRegression()\n",
    "    )\n",
    "    model.fit(df[[x1, x2]], df[[y]])\n",
    "    return model"
   ]
  },
  {
   "cell_type": "code",
   "execution_count": 12,
   "id": "89cc725f-ba93-459e-9614-4f3fab35e405",
   "metadata": {},
   "outputs": [],
   "source": [
    "pe_response_model = fit_response_surface(pe_response, \"PE\", degree=4)"
   ]
  },
  {
   "cell_type": "markdown",
   "id": "ee6964d1-ef11-4d4d-8885-02b730d38864",
   "metadata": {},
   "source": [
    "To create a smooth representation of the response surface, the fitted function is sampled densely in the space spanned by the temperature and precipitation perturbations:"
   ]
  },
  {
   "cell_type": "code",
   "execution_count": 13,
   "id": "c3e3b2df-5cbb-46e6-9b65-a855fe9db0ec",
   "metadata": {},
   "outputs": [],
   "source": [
    "sample = pd.MultiIndex.from_product([\n",
    "    np.linspace(-40, 60, 201),\n",
    "    np.linspace(0.0, 5.0, 201)\n",
    "], names=[\"dp\", \"dt\"])\n",
    "\n",
    "pe_response_sampled = pd.DataFrame(\n",
    "    pe_response_model.predict(sample.to_frame()),\n",
    "    index=sample,\n",
    "    columns=[\"PE\"]\n",
    ").to_xarray()"
   ]
  },
  {
   "cell_type": "markdown",
   "id": "3b348e14-eb23-4b1f-b548-5d2d9d9c6da7",
   "metadata": {},
   "source": [
    "A contour plot visualizes the response surface:"
   ]
  },
  {
   "cell_type": "code",
   "execution_count": 14,
   "id": "d3d4b79a-f2c1-41ff-8134-92802232197c",
   "metadata": {},
   "outputs": [
    {
     "data": {
      "text/plain": [
       "Text(0, 0.5, 'Precipitation change (%)')"
      ]
     },
     "execution_count": 14,
     "metadata": {},
     "output_type": "execute_result"
    },
    {
     "data": {
      "image/png": "[encoded data removed]",
      "text/plain": [
       "<Figure size 700x600 with 2 Axes>"
      ]
     },
     "metadata": {},
     "output_type": "display_data"
    }
   ],
   "source": [
    "subplot = ekp.Subplot()\n",
    "subplot.title(f\"Probability of exceeding an FWI of {threshold} in {location}\")\n",
    "\n",
    "subplot.contourf(pe_response_sampled, style=pe_plot_style_absolute)\n",
    "subplot.legend()\n",
    "\n",
    "subplot.ax.set_xlabel(\"Temperature change (°C)\")\n",
    "subplot.ax.set_ylabel(\"Precipitation change (%)\")"
   ]
  },
  {
   "cell_type": "markdown",
   "id": "46cb9254-83dd-4f7e-9bc2-c317f0a59b1d",
   "metadata": {},
   "source": [
    ":::{caution}\n",
    "\n",
    "The preconfigured 4th-degree polynomial model for the response surface can produce probabilities of exceedance outside of the range 0 to 100%.\n",
    "A different model should be chosen if the fitted surface does not represent the response table appropriately.\n",
    ":::"
   ]
  },
  {
   "cell_type": "markdown",
   "id": "f3185995-4e9a-43ae-9e39-59a68f4760c3",
   "metadata": {},
   "source": [
    "### Interpretation\n",
    "\n",
    "The contours of the response surface tell us about the **dependencies** of the estimated response:\n",
    "\n",
    "- Horizontal contour lines indicate that the response of PE is independent of temperature and only a function of precipitation.\n",
    "- Vertical contour lines indicate that the response of PE is independent of precipitation and only a function of temperature.\n",
    "- Sloped contours fill the response spectrum between these extremes.\n",
    "\n",
    "The contours also tell us about the **strength** of the estimated response:\n",
    "\n",
    "- Changes in temperature and precipitation that follow a contour line do not result in a change of the FWI PE.\n",
    "- The response is strongest where changes to temperature and precipitation are orthogonal to the contour lines and where contours are packed densely.\n",
    "\n",
    "**Qualitatively**, the response surface reflects that both less precipitation and higher temperatures lead to higher probabilities of exceedance for a given FWI threshold, as expected from the construction of the FWI.\n",
    "The surface further provides a **quantitative** estimate of the response of wildfire hazard (as represented by the FWI), as a function of two important parameters for climate change, i.e., temperature and precipitation."
   ]
  },
  {
   "cell_type": "markdown",
   "id": "41e789ac-9371-4640-89ee-f3b5349d62f1",
   "metadata": {},
   "source": [
    "### Relative response surface\n",
    "\n",
    "To get a clearer picture of the response relative to the unperturbed historical climate, the change in percentage *points* is plotted instead:"
   ]
  },
  {
   "cell_type": "code",
   "execution_count": 15,
   "id": "536495e1-a890-47a2-815c-44ad536576d9",
   "metadata": {},
   "outputs": [],
   "source": [
    "def relative_response(response, dp_ref=0.0, dt_ref=0.0):\n",
    "    return response - response.sel({\"dp\": dp_ref, \"dt\": dt_ref})"
   ]
  },
  {
   "cell_type": "code",
   "execution_count": 16,
   "id": "c266a7c0-27c8-472f-ab7b-c8744e52ddc0",
   "metadata": {},
   "outputs": [
    {
     "data": {
      "text/plain": [
       "Text(0, 0.5, 'Precipitation change (%)')"
      ]
     },
     "execution_count": 16,
     "metadata": {},
     "output_type": "execute_result"
    },
    {
     "data": {
      "image/png": "[encoded data removed]",
      "text/plain": [
       "<Figure size 700x600 with 2 Axes>"
      ]
     },
     "metadata": {},
     "output_type": "display_data"
    }
   ],
   "source": [
    "pe_plot_style_relative = ekp.styles.Style(\n",
    "    levels=[-50, -40, -30, -20, -10, 0, 10, 20, 30, 40, 50],\n",
    "    extend=\"both\",\n",
    "    colors=\"RdBu_r\",\n",
    "    units_label=\"%-points relative to unperturbed historical climate\"\n",
    ")\n",
    "\n",
    "subplot = ekp.Subplot()\n",
    "subplot.title(f\"Change in probability of exceeding an FWI of {threshold} in {location}\")\n",
    "\n",
    "subplot.contourf(relative_response(pe_response_sampled), style=pe_plot_style_relative)\n",
    "subplot.legend()\n",
    "\n",
    "subplot.ax.set_xlabel(\"Temperature change (°C)\")\n",
    "subplot.ax.set_ylabel(\"Precipitation change (%)\")"
   ]
  },
  {
   "cell_type": "markdown",
   "id": "af0bb5b3-0b93-4d48-a4c7-6e15a566596b",
   "metadata": {},
   "source": [
    "Note how the 0-contour (no change) passess through the point with zero temperature and precipitation change on the left, which represents the unperturbed historical climate."
   ]
  },
  {
   "cell_type": "markdown",
   "id": "2588a52b-57b6-4532-8769-cf4af6c9087a",
   "metadata": {},
   "source": [
    "## Step 4: Response surface for fire season length\n",
    "\n",
    "The same response surface methodology can be applied to other properties of the FWI simulations.\n",
    "Here, the steps are repeated for the average fire season length (FSL), as defined by the number of days in a year where the FWI exceeds a threshold.\n",
    "\n",
    "The threshold value is again chosen as half the value of the 20-year return period in the unperturbed historical simulation, following [El Garroussi et al. (2024)](https://doi.org/10.1038/s41612-024-00575-8)."
   ]
  },
  {
   "cell_type": "markdown",
   "id": "a1f96f2f-3139-486c-94c2-c400a3374a18",
   "metadata": {},
   "source": [
    "### Threshold selection"
   ]
  },
  {
   "cell_type": "code",
   "execution_count": 17,
   "id": "5e6d9bfb-001f-405a-9353-122ab08f3019",
   "metadata": {},
   "outputs": [
    {
     "data": {
      "text/plain": [
       "32.7"
      ]
     },
     "execution_count": 17,
     "metadata": {},
     "output_type": "execute_result"
    }
   ],
   "source": [
    "fwi_20yr = ekm_stats.return_period_to_value(\n",
    "    ekm_stats.GumbelDistribution.fit(fwi_max.sel({\"dp\": 0.0, \"dt\": 0.0})),\n",
    "    20.  # return period in years\n",
    ")\n",
    "\n",
    "# Use half the 20-year return period FWI as threshold; round for nicer labels\n",
    "fsl_threshold = round(0.5 * fwi_20yr, 1)\n",
    "fsl_threshold"
   ]
  },
  {
   "cell_type": "markdown",
   "id": "a835ee80-3ee2-4634-91fe-51490538d128",
   "metadata": {},
   "source": [
    "### Response table"
   ]
  },
  {
   "cell_type": "code",
   "execution_count": 18,
   "id": "6ba4f95a-8c80-402b-b022-9b23d97adf72",
   "metadata": {},
   "outputs": [],
   "source": [
    "fsl = (location_fwi > fsl_threshold).groupby(location_fwi.coords[\"time\"].dt.year).sum()\n",
    "\n",
    "fsl_response = fsl.mean(dim=\"year\").to_series().rename(\"FSL\")"
   ]
  },
  {
   "cell_type": "code",
   "execution_count": 19,
   "id": "9072c50d-3ff9-4375-a2dc-2483c843b50e",
   "metadata": {},
   "outputs": [
    {
     "data": {
      "text/html": [
       "<div>\n",
       "<style scoped>\n",
       "    .dataframe tbody tr th:only-of-type {\n",
       "        vertical-align: middle;\n",
       "    }\n",
       "\n",
       "    .dataframe tbody tr th {\n",
       "        vertical-align: top;\n",
       "    }\n",
       "\n",
       "    .dataframe thead th {\n",
       "        text-align: right;\n",
       "    }\n",
       "</style>\n",
       "<table border=\"1\" class=\"dataframe\">\n",
       "  <thead>\n",
       "    <tr style=\"text-align: right;\">\n",
       "      <th>dt</th>\n",
       "      <th>0.0</th>\n",
       "      <th>1.0</th>\n",
       "      <th>2.0</th>\n",
       "      <th>3.0</th>\n",
       "      <th>4.0</th>\n",
       "      <th>5.0</th>\n",
       "    </tr>\n",
       "    <tr>\n",
       "      <th>dp</th>\n",
       "      <th></th>\n",
       "      <th></th>\n",
       "      <th></th>\n",
       "      <th></th>\n",
       "      <th></th>\n",
       "      <th></th>\n",
       "    </tr>\n",
       "  </thead>\n",
       "  <tbody>\n",
       "    <tr>\n",
       "      <th>-40.0</th>\n",
       "      <td>99.2</td>\n",
       "      <td>103.7</td>\n",
       "      <td>107.9</td>\n",
       "      <td>111.9</td>\n",
       "      <td>116.1</td>\n",
       "      <td>119.8</td>\n",
       "    </tr>\n",
       "    <tr>\n",
       "      <th>-20.0</th>\n",
       "      <td>92.3</td>\n",
       "      <td>97.0</td>\n",
       "      <td>101.3</td>\n",
       "      <td>105.4</td>\n",
       "      <td>109.2</td>\n",
       "      <td>112.8</td>\n",
       "    </tr>\n",
       "    <tr>\n",
       "      <th>0.0</th>\n",
       "      <td>87.1</td>\n",
       "      <td>91.4</td>\n",
       "      <td>95.9</td>\n",
       "      <td>100.0</td>\n",
       "      <td>103.9</td>\n",
       "      <td>107.8</td>\n",
       "    </tr>\n",
       "    <tr>\n",
       "      <th>20.0</th>\n",
       "      <td>83.5</td>\n",
       "      <td>87.5</td>\n",
       "      <td>91.1</td>\n",
       "      <td>95.6</td>\n",
       "      <td>99.5</td>\n",
       "      <td>103.5</td>\n",
       "    </tr>\n",
       "    <tr>\n",
       "      <th>40.0</th>\n",
       "      <td>79.9</td>\n",
       "      <td>84.0</td>\n",
       "      <td>87.8</td>\n",
       "      <td>92.0</td>\n",
       "      <td>95.9</td>\n",
       "      <td>99.7</td>\n",
       "    </tr>\n",
       "    <tr>\n",
       "      <th>60.0</th>\n",
       "      <td>76.9</td>\n",
       "      <td>81.1</td>\n",
       "      <td>85.0</td>\n",
       "      <td>88.9</td>\n",
       "      <td>92.8</td>\n",
       "      <td>96.5</td>\n",
       "    </tr>\n",
       "  </tbody>\n",
       "</table>\n",
       "</div>"
      ],
      "text/plain": [
       "dt      0.0    1.0    2.0    3.0    4.0    5.0\n",
       "dp                                            \n",
       "-40.0  99.2  103.7  107.9  111.9  116.1  119.8\n",
       "-20.0  92.3   97.0  101.3  105.4  109.2  112.8\n",
       " 0.0   87.1   91.4   95.9  100.0  103.9  107.8\n",
       " 20.0  83.5   87.5   91.1   95.6   99.5  103.5\n",
       " 40.0  79.9   84.0   87.8   92.0   95.9   99.7\n",
       " 60.0  76.9   81.1   85.0   88.9   92.8   96.5"
      ]
     },
     "execution_count": 19,
     "metadata": {},
     "output_type": "execute_result"
    }
   ],
   "source": [
    "fsl_response.unstack().round(1)"
   ]
  },
  {
   "cell_type": "markdown",
   "id": "35de2a2e-597b-4a02-b711-597d3b0be8a3",
   "metadata": {},
   "source": [
    "### Response surface"
   ]
  },
  {
   "cell_type": "code",
   "execution_count": 20,
   "id": "d4ee4d87-de76-4bf3-8da9-51fb1509e29d",
   "metadata": {},
   "outputs": [],
   "source": [
    "fsl_response_model = fit_response_surface(fsl_response, \"FSL\", degree=4)\n",
    "\n",
    "fsl_response_sampled = pd.DataFrame(\n",
    "    fsl_response_model.predict(sample.to_frame()),\n",
    "    index=sample,\n",
    "    columns=[\"FSL\"]\n",
    ").to_xarray()"
   ]
  },
  {
   "cell_type": "code",
   "execution_count": 21,
   "id": "85d86423-c231-4251-bde3-ec4c4d7a6a96",
   "metadata": {},
   "outputs": [
    {
     "data": {
      "text/plain": [
       "Text(0, 0.5, 'Precipitation change (%)')"
      ]
     },
     "execution_count": 21,
     "metadata": {},
     "output_type": "execute_result"
    },
    {
     "data": {
      "image/png": "[encoded data removed]",
      "text/plain": [
       "<Figure size 700x600 with 2 Axes>"
      ]
     },
     "metadata": {},
     "output_type": "display_data"
    }
   ],
   "source": [
    "fsl_plot_style_absolute = ekp.styles.Style(\n",
    "    levels=[70, 75, 80, 85, 90, 95, 100, 105, 110],  # adapt to your data range\n",
    "    extend=\"both\",\n",
    "    colors=\"YlOrBr\",\n",
    "    units_label=\"days\"\n",
    ")\n",
    "\n",
    "subplot = ekp.Subplot()\n",
    "subplot.title(f\"Average fire season length (FWI > {fsl_threshold}) in {location}\")\n",
    "\n",
    "subplot.contourf(fsl_response_sampled, style=fsl_plot_style_absolute)\n",
    "subplot.legend()\n",
    "\n",
    "subplot.ax.set_xlabel(\"Temperature change (°C)\")\n",
    "subplot.ax.set_ylabel(\"Precipitation change (%)\")"
   ]
  },
  {
   "cell_type": "markdown",
   "id": "450307cf-3871-486c-a89f-849debc6bd98",
   "metadata": {},
   "source": [
    "## Step 5: Export data and models\n",
    "\n",
    "Each response model is written to a dedicated folder.\n",
    "Export response tables in csv format, models with [pickle](https://scikit-learn.org/stable/model_persistence.html#pickle-joblib-and-cloudpickle) and metadata as json."
   ]
  },
  {
   "cell_type": "code",
   "execution_count": 22,
   "id": "165e7951-7ce0-45e3-9e28-c0d0b13ee6b0",
   "metadata": {},
   "outputs": [],
   "source": [
    "def export_all(name, table, model, info):\n",
    "    out_dir = data_dir / location / name\n",
    "    out_dir.mkdir(parents=True, exist_ok=True)\n",
    "\n",
    "    table.to_csv(out_dir / \"response_table.csv\")\n",
    "\n",
    "    with open(out_dir / \"response_model.pkl\", \"wb\") as f:\n",
    "        pickle.dump(model, f, protocol=5)\n",
    "\n",
    "    with open(out_dir / \"response_info.json\", \"w\") as f:\n",
    "        json.dump(info, f)\n",
    "\n",
    "    return name"
   ]
  },
  {
   "cell_type": "markdown",
   "id": "34e46782-2389-486a-a9bf-0df975ad222a",
   "metadata": {},
   "source": [
    "### Probability of exceedance"
   ]
  },
  {
   "cell_type": "code",
   "execution_count": 23,
   "id": "4317adf9-22da-4d89-8275-cb1c87556770",
   "metadata": {},
   "outputs": [
    {
     "data": {
      "text/plain": [
       "'hazard_pe_60.0'"
      ]
     },
     "execution_count": 23,
     "metadata": {},
     "output_type": "execute_result"
    }
   ],
   "source": [
    "export_all(f\"hazard_pe_{threshold}\", pe_response, pe_response_model, {\n",
    "    \"location\": location,\n",
    "    \"threshold\": threshold,\n",
    "    \"variable\": \"pe\",\n",
    "    \"label\": f\"probability of exceeding FWI {threshold} in a year\",\n",
    "    \"units\": \"%\"\n",
    "})"
   ]
  },
  {
   "cell_type": "markdown",
   "id": "36eb7876-4cbd-4c94-ab0b-96ea1b6303fc",
   "metadata": {},
   "source": [
    "### Fire season length"
   ]
  },
  {
   "cell_type": "code",
   "execution_count": 24,
   "id": "629dc198-32e1-4434-af81-f481b97d23e8",
   "metadata": {},
   "outputs": [
    {
     "data": {
      "text/plain": [
       "'hazard_fsl_32.7'"
      ]
     },
     "execution_count": 24,
     "metadata": {},
     "output_type": "execute_result"
    }
   ],
   "source": [
    "export_all(f\"hazard_fsl_{fsl_threshold}\", fsl_response, fsl_response_model, {\n",
    "    \"location\": location,\n",
    "    \"threshold\": fsl_threshold,\n",
    "    \"variable\": \"fsl\",\n",
    "    \"label\": f\"average fire season length (FWI ≥ {fsl_threshold})\",\n",
    "    \"units\": \"days\"\n",
    "})"
   ]
  },
  {
   "cell_type": "markdown",
   "id": "149c1efe-6f42-4273-a1e5-906502be05ee",
   "metadata": {},
   "source": [
    "## Summary\n",
    "\n",
    "Response surface models for two FWI-based fire hazard indicators,\n",
    "\n",
    "- the probability of exceedance of an FWI threshold in a year (inverse return period) and\n",
    "- the average number of days above an FWI threshold in a year (fire season length),\n",
    "\n",
    "have been created based on the perturbed historical simulations of [El Garroussi (2024)](https://doi.org/10.5281/zenodo.10458186).\n",
    "These response surfaces give insight into the individual and synergistic impact of temperature and precipitation changes on wildfire hazard in a region of interest, allowing for a first assessment of how susceptible to climate change a region is in terms of wildfire hazard.\n",
    "\n",
    ":::{tip}\n",
    "\n",
    "In principle, the response surface methodology works with any quantity that breaks down each simulation from the dataset to a single number.\n",
    "Here, we have chosen to apply the method to the probability of exceedance of a threshold and the average fire season length.\n",
    "You can repeat the steps with any suitable quantity of interest.\n",
    ":::\n",
    "\n",
    "In the next part of the hazard assessment ([climate projections](hazard_assessment_projections.ipynb)), projections of temperature and precipitation change from climate model runs are evaluated with a response model to obtain concrete projections of wildfire hazard for the future."
   ]
  }
 ],
 "metadata": {
  "kernelspec": {
   "display_name": "Python 3 (ipykernel)",
   "language": "python",
   "name": "python3"
  },
  "language_info": {
   "codemirror_mode": {
    "name": "ipython",
    "version": 3
   },
   "file_extension": ".py",
   "mimetype": "text/x-python",
   "name": "python",
   "nbconvert_exporter": "python",
   "pygments_lexer": "ipython3",
   "version": "3.11.11"
  }
 },
 "nbformat": 4,
 "nbformat_minor": 5
}
