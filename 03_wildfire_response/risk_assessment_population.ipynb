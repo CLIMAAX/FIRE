{
 "cells": [
  {
   "cell_type": "markdown",
   "id": "e92b3d85-a95e-4eb9-8068-ac8647be1084",
   "metadata": {},
   "source": [
    "# Risk assessment — affected population\n",
    "\n",
    "- A workflow from the CLIMAAX [Handbook](https://handbook.climaax.eu/) and [FIRE](https://github.com/CLIMAAX/FIRE) GitHub repository.\n",
    "- See our [how to use risk workflows](https://handbook.climaax.eu/notebooks/workflows_how_to.html) page for information on how to run this notebook.\n",
    "\n",
    "Combine projections of wildfire hazard with projections of population and count the population affected by a specific level of hazard in the future."
   ]
  },
  {
   "cell_type": "markdown",
   "id": "1e29bca7-1f15-4a5f-82b5-29a364db582a",
   "metadata": {},
   "source": [
    "## Preparation work\n",
    "\n",
    "### Load libraries\n",
    "\n",
    ":::{admonition} Information about the libraries used in this workflow\n",
    ":class: hint dropdown\n",
    "\n",
    "- [os](https://docs.python.org/3/library/os.html) - Operating system interaction and file path manipulation.\n",
    "- [pathlib](https://docs.python.org/3/library/pathlib.html) - Convenient file path manipulation.\n",
    "- [zipfile](https://docs.python.org/3/library/zipfile.html) - Zip archive handling.\n",
    "- [numpy](https://numpy.org/) - A powerful library for numerical computations, widely used for array operations and mathematical functions.\n",
    "- [geopandas](https://geopandas.org/en/stable/index.html) - Geometric operations for geospatial data in [pandas](https://pandas.pydata.org/).\n",
    "- [xarray](https://docs.xarray.dev/en/stable/) - Library for working with labelled multi-dimensional arrays.\n",
    "- [rioxarray](https://corteva.github.io/rioxarray/html/index.html) - Geospatial operations for xarray based on GDAL/rasterio.\n",
    "- [earthkit.plots](https://earthkit-plots.readthedocs.io/en/latest/) - Visualisation tools and templates designed for earth science data.\n",
    "- [pooch](https://www.fatiando.org/pooch/latest/index.html) - Data download utility with DOI support.\n",
    ":::"
   ]
  },
  {
   "cell_type": "code",
   "execution_count": 1,
   "id": "01fad4a3-9733-4065-8b06-84657f085b43",
   "metadata": {},
   "outputs": [],
   "source": [
    "import os\n",
    "import pathlib\n",
    "import zipfile\n",
    "\n",
    "import earthkit.plots as ekp\n",
    "import geopandas as gpd\n",
    "import matplotlib.pyplot as plt\n",
    "import numpy as np\n",
    "import pooch\n",
    "import xarray as xr"
   ]
  },
  {
   "cell_type": "markdown",
   "id": "75bf4251-7cbe-4b26-9f36-b86121444baa",
   "metadata": {},
   "source": [
    "### Set location\n",
    "\n",
    "Used for labelling and to locate data from previous steps of the workflow."
   ]
  },
  {
   "cell_type": "code",
   "execution_count": 2,
   "id": "60b92658-928d-4a78-a1e3-3345d2cb2909",
   "metadata": {},
   "outputs": [],
   "source": [
    "location = \"Andalucía\""
   ]
  },
  {
   "cell_type": "markdown",
   "id": "a612e007-ebbf-4e7c-94c9-770a8183eb1c",
   "metadata": {},
   "source": [
    "### Path configuration"
   ]
  },
  {
   "cell_type": "code",
   "execution_count": 3,
   "id": "9a4ce557-fef3-4d83-9057-9b1dc360b432",
   "metadata": {},
   "outputs": [],
   "source": [
    "data_dir = pathlib.Path(\"./data\")\n",
    "\n",
    "# Shapefile of region that is analysed\n",
    "region_path = data_dir / location / \"region\"\n",
    "\n",
    "# Folder for population data\n",
    "pop_dir = data_dir / \"population\""
   ]
  },
  {
   "cell_type": "markdown",
   "id": "1f318d41-da81-43cb-aeb5-9deacb455ab3",
   "metadata": {},
   "source": [
    "### Load region geometry"
   ]
  },
  {
   "cell_type": "code",
   "execution_count": 4,
   "id": "ce34b18b-f2e8-4b87-b2c9-6bff4c2c8ba4",
   "metadata": {},
   "outputs": [],
   "source": [
    "region = gpd.read_file(region_path)"
   ]
  },
  {
   "cell_type": "markdown",
   "id": "f59a9dc8-d665-428a-90f4-405070dad953",
   "metadata": {},
   "source": [
    "## Step 1: Import population projections\n",
    "\n",
    "[Wang et al. (2022)](https://doi.org/10.6084/m9.figshare.19608594.v3) have modelled the global population distribution from 2020 to 2100 in 5-year steps under five shared socioeconomic pathway (SSP) scenarios:\n",
    "\n",
    "- `SSP1`: \"Taking the Green Road\"\n",
    "- `SSP2`: \"Middle of the Road\"\n",
    "- `SSP3`: \"A Rocky Road\"\n",
    "- `SSP4`: \"A Road Divided\"\n",
    "- `SSP5`: \"Taking the Highway\""
   ]
  },
  {
   "cell_type": "markdown",
   "id": "668f4b1c-d5bb-42dd-89fc-af80317a1d8a",
   "metadata": {},
   "source": [
    "### Select a scenario"
   ]
  },
  {
   "cell_type": "code",
   "execution_count": 5,
   "id": "7c696381-32e8-4b2e-b249-5dfc36697732",
   "metadata": {},
   "outputs": [],
   "source": [
    "ssp = \"SSP1\""
   ]
  },
  {
   "cell_type": "markdown",
   "id": "826b2ec2-4d32-4d1e-afa2-8c2f0df7b39e",
   "metadata": {},
   "source": [
    "### Download data\n",
    "\n",
    "Projections are available in GeoTIFF format packaged into a zip archive per SSP.\n",
    "\n",
    ":::{tip}\n",
    "\n",
    "You can skip this substep if you already downloaded the data.\n",
    ":::"
   ]
  },
  {
   "cell_type": "code",
   "execution_count": null,
   "id": "473fa4a6-0782-4230-a385-1732d2269aa6",
   "metadata": {},
   "outputs": [],
   "source": [
    "population_pooch = pooch.create(\n",
    "    base_url=\"doi:10.6084/m9.figshare.19608594.v3\",\n",
    "    path=pop_dir,\n",
    "    registry={\n",
    "        \"SPP1.zip\": \"3ec4587810b7ca5201d2a19bf37fc447a88559b3841aadbf675d9c3a738c285e\",\n",
    "        \"SSP2.zip\": \"00d7f9e79504c1936ba86b0857c7e7ac4015f9a05a3e13d328f9487bec6eddd7\",\n",
    "        \"SSP3.zip\": \"f8de3ef275d3fb40b11a0d65259639f40286f95a42d57d60fde5a7967a2d91d1\",\n",
    "        \"SSP4.zip\": \"e307e0eff29c1ae91d99bd9a8ae4498b122b01e59329d75e544d11641db8defb\",\n",
    "        \"SSP5.zip\": \"2af4b5f9886db0153d4dbd0ba229078baeeab3fe355906d40eb034835cad5190\",\n",
    "    }\n",
    ")"
   ]
  },
  {
   "cell_type": "code",
   "execution_count": null,
   "id": "0e22114f-b163-463c-828f-1dc8e0f7103f",
   "metadata": {},
   "outputs": [],
   "source": [
    "# Exception for a typo in the scenario names in the data repository\n",
    "population_filename = \"SPP1.zip\" if ssp == \"SSP1\" else f\"{ssp}.zip\"\n",
    "\n",
    "# Download from repository\n",
    "population_filename = population_pooch.fetch(population_filename, progressbar=True)"
   ]
  },
  {
   "cell_type": "markdown",
   "id": "93bc0b37-a05f-4ef6-ad1f-4e604163df7d",
   "metadata": {},
   "source": [
    "Unpack all GeoTIFF files from the downloaded archive into the population data folder:"
   ]
  },
  {
   "cell_type": "code",
   "execution_count": null,
   "id": "5c8a1803-f5d0-41f8-9b47-db0c2224973d",
   "metadata": {},
   "outputs": [],
   "source": [
    "with zipfile.ZipFile(pop_archive) as zobj:\n",
    "    # Extract without keeping structure (https://stackoverflow.com/a/47632134)\n",
    "    for zinfo in zobj.infolist():\n",
    "        if not zinfo.filename.endswith(\".tif\"):\n",
    "            continue\n",
    "        zinfo.filename = os.path.basename(zinfo.filename)\n",
    "        zobj.extract(zinfo, path=pop_dir)"
   ]
  },
  {
   "cell_type": "markdown",
   "id": "619887a0-6d0d-4393-ae59-f288d5195bdc",
   "metadata": {},
   "source": [
    "Remove the archive to reduce disk usage:"
   ]
  },
  {
   "cell_type": "code",
   "execution_count": null,
   "id": "627f1ece-37ed-4c29-934e-c73017cb1c42",
   "metadata": {},
   "outputs": [],
   "source": [
    "os.remove(pop_archive)"
   ]
  },
  {
   "cell_type": "markdown",
   "id": "221f1047-97e4-4f3d-9904-a3189ebe5368",
   "metadata": {},
   "source": [
    "### Import and clip data\n",
    "\n",
    "Load the population projections for all years:"
   ]
  },
  {
   "cell_type": "code",
   "execution_count": 6,
   "id": "a5ef19fb-c716-4432-b02a-83dbd615c359",
   "metadata": {},
   "outputs": [],
   "source": [
    "def assign_year(ds):\n",
    "    \"\"\"Assign a year coordinate based on value extracted from the filename\"\"\"\n",
    "    year = int(ds.encoding[\"source\"][-8:-4])\n",
    "    return ds.squeeze().assign_coords({\"year\": year})\n",
    "\n",
    "population = xr.open_mfdataset(\n",
    "    sorted(pop_dir.glob(f\"{ssp}_*.tif\")),\n",
    "    engine=\"rasterio\",\n",
    "    preprocess=assign_year,\n",
    "    concat_dim=\"year\",\n",
    "    combine=\"nested\",\n",
    "    chunks=\"auto\"\n",
    ")"
   ]
  },
  {
   "cell_type": "markdown",
   "id": "6b3c3953-9c26-47fa-ae6c-5f519483d665",
   "metadata": {},
   "source": [
    "Preselect and set metadata for convenience:"
   ]
  },
  {
   "cell_type": "code",
   "execution_count": 7,
   "id": "0adca9a4-826e-4e38-8ecd-2cd010b96319",
   "metadata": {},
   "outputs": [],
   "source": [
    "population = population[\"band_data\"].rename(\"population\").squeeze()"
   ]
  },
  {
   "cell_type": "markdown",
   "id": "f6a91871-3a40-4f84-8364-b6a8165b497b",
   "metadata": {},
   "source": [
    "Only keep population data for the region of interest:"
   ]
  },
  {
   "cell_type": "code",
   "execution_count": 8,
   "id": "17954f2b-3782-49db-bd18-0ac30a76b363",
   "metadata": {},
   "outputs": [],
   "source": [
    "# Data is on a lat-lon grid. Preselect with the bounding box of\n",
    "# the region shapefile to speed up clipping with rasterio \n",
    "bbox = region.total_bounds\n",
    "population = population.sel({\n",
    "    \"x\": slice(bbox[0], bbox[2]),\n",
    "    \"y\": slice(bbox[3], bbox[1])\n",
    "}).compute()\n",
    "\n",
    "# Now clip to the actual region boundaries\n",
    "population = population.rio.clip(region.geometry, all_touched=True)"
   ]
  },
  {
   "cell_type": "markdown",
   "id": "38f1aed7-1c44-4b48-952c-bc52d45e8496",
   "metadata": {},
   "source": [
    "### Evolution of the total population\n",
    "\n",
    "Sum across the region to get the total population:"
   ]
  },
  {
   "cell_type": "code",
   "execution_count": 9,
   "id": "5b919f91-cd41-42e1-ae01-05367dec1265",
   "metadata": {},
   "outputs": [],
   "source": [
    "total_population = population.sum(dim=[\"x\", \"y\"])"
   ]
  },
  {
   "cell_type": "markdown",
   "id": "13b6b3b1-f71f-496d-b01a-265d4a1875d5",
   "metadata": {},
   "source": [
    "For a first look at the population data, visualize the projected evolution of the total population and a population map for one year as an example:"
   ]
  },
  {
   "cell_type": "code",
   "execution_count": 10,
   "id": "bf67a219-132a-4682-b880-2ff138f6449f",
   "metadata": {},
   "outputs": [
    {
     "name": "stderr",
     "output_type": "stream",
     "text": [
      "/opt/conda/lib/python3.11/site-packages/earthkit/plots/metadata/labels.py:121: UserWarning: No key \"units\" found in layer metadata.\n",
      "  warnings.warn(f'No key \"{attr}\" found in layer metadata.')\n"
     ]
    },
    {
     "data": {
      "image/png": "[encoded data removed]",
      "text/plain": [
       "<Figure size 800x350 with 3 Axes>"
      ]
     },
     "metadata": {},
     "output_type": "display_data"
    }
   ],
   "source": [
    "fig = ekp.Figure(rows=1, columns=2, size=(8, 3.5))\n",
    "fig.title(f\"{location} {ssp}\")\n",
    "\n",
    "# Determine the year at which the population is largest (or choose a year of interest)\n",
    "year = int(total_population.idxmax().values)\n",
    "\n",
    "# Temporal evolution of the total population\n",
    "subplot = fig.add_subplot()\n",
    "subplot.title(\"Total population\")\n",
    "subplot.line(x=population[\"year\"].values, y=total_population.values)\n",
    "subplot.ax.axvline(year, color=\"black\", alpha=0.33, linestyle=\"dashed\")\n",
    "\n",
    "# Population map for the year of interest\n",
    "subplot = fig.add_map()\n",
    "subplot.title(f\"Population {year}\")\n",
    "region.plot(ax=subplot.ax, edgecolor=\"black\", facecolor=\"none\")  # Outline of selected region\n",
    "subplot.block(population.sel({\"year\": year}))\n",
    "subplot.legend(location=\"right\")\n",
    "subplot.land()\n",
    "subplot.borders()\n",
    "subplot.gridlines()"
   ]
  },
  {
   "cell_type": "markdown",
   "id": "8b535322-0d39-4854-a770-906874f17a35",
   "metadata": {},
   "source": [
    ":::{note}\n",
    "\n",
    "The values in the population map indicate the number of inhabitants per grid cell.\n",
    ":::"
   ]
  },
  {
   "cell_type": "markdown",
   "id": "db12a289-470a-42ba-b10f-304b46580fb7",
   "metadata": {},
   "source": [
    "## Step 2: Import hazard projections\n",
    "\n",
    "Import the hazard projections constructed in the final notebook of the hazard assessment.\n",
    "Specify the name of a response model as assigned during its export and the RCP scenario of the climate projections it has been evaluated with:"
   ]
  },
  {
   "cell_type": "code",
   "execution_count": 11,
   "id": "220fca81-3b37-4fb2-965b-fb88b71f602e",
   "metadata": {},
   "outputs": [],
   "source": [
    "# Response model\n",
    "hazard_name = \"hazard_pe_60.0\"\n",
    "\n",
    "# Climate scenario\n",
    "rcp = \"RCP4.5\"\n",
    "\n",
    "hazard_dir = data_dir / location / hazard_name"
   ]
  },
  {
   "cell_type": "markdown",
   "id": "d0b41b50-2d3d-484f-b489-558663a2bb36",
   "metadata": {},
   "source": [
    "Load the corresponding hazard indicator data:"
   ]
  },
  {
   "cell_type": "code",
   "execution_count": 12,
   "id": "5f692075-21f9-4bb6-bfb0-f84d7d42f2d0",
   "metadata": {},
   "outputs": [
    {
     "data": {
      "text/html": [
       "<div><svg style=\"position: absolute; width: 0; height: 0; overflow: hidden\">\n",
       "<defs>\n",
       "<symbol id=\"icon-database\" viewBox=\"0 0 32 32\">\n",
       "<path d=\"M16 0c-8.837 0-16 2.239-16 5v4c0 2.761 7.163 5 16 5s16-2.239 16-5v-4c0-2.761-7.163-5-16-5z\"></path>\n",
       "<path d=\"M16 17c-8.837 0-16-2.239-16-5v6c0 2.761 7.163 5 16 5s16-2.239 16-5v-6c0 2.761-7.163 5-16 5z\"></path>\n",
       "<path d=\"M16 26c-8.837 0-16-2.239-16-5v6c0 2.761 7.163 5 16 5s16-2.239 16-5v-6c0 2.761-7.163 5-16 5z\"></path>\n",
       "</symbol>\n",
       "<symbol id=\"icon-file-text2\" viewBox=\"0 0 32 32\">\n",
       "<path d=\"M28.681 7.159c-0.694-0.947-1.662-2.053-2.724-3.116s-2.169-2.030-3.116-2.724c-1.612-1.182-2.393-1.319-2.841-1.319h-15.5c-1.378 0-2.5 1.121-2.5 2.5v27c0 1.378 1.122 2.5 2.5 2.5h23c1.378 0 2.5-1.122 2.5-2.5v-19.5c0-0.448-0.137-1.23-1.319-2.841zM24.543 5.457c0.959 0.959 1.712 1.825 2.268 2.543h-4.811v-4.811c0.718 0.556 1.584 1.309 2.543 2.268zM28 29.5c0 0.271-0.229 0.5-0.5 0.5h-23c-0.271 0-0.5-0.229-0.5-0.5v-27c0-0.271 0.229-0.5 0.5-0.5 0 0 15.499-0 15.5 0v7c0 0.552 0.448 1 1 1h7v19.5z\"></path>\n",
       "<path d=\"M23 26h-14c-0.552 0-1-0.448-1-1s0.448-1 1-1h14c0.552 0 1 0.448 1 1s-0.448 1-1 1z\"></path>\n",
       "<path d=\"M23 22h-14c-0.552 0-1-0.448-1-1s0.448-1 1-1h14c0.552 0 1 0.448 1 1s-0.448 1-1 1z\"></path>\n",
       "<path d=\"M23 18h-14c-0.552 0-1-0.448-1-1s0.448-1 1-1h14c0.552 0 1 0.448 1 1s-0.448 1-1 1z\"></path>\n",
       "</symbol>\n",
       "</defs>\n",
       "</svg>\n",
       "<style>/* CSS stylesheet for displaying xarray objects in jupyterlab.\n",
       " *\n",
       " */\n",
       "\n",
       ":root {\n",
       "  --xr-font-color0: var(--jp-content-font-color0, rgba(0, 0, 0, 1));\n",
       "  --xr-font-color2: var(--jp-content-font-color2, rgba(0, 0, 0, 0.54));\n",
       "  --xr-font-color3: var(--jp-content-font-color3, rgba(0, 0, 0, 0.38));\n",
       "  --xr-border-color: var(--jp-border-color2, #e0e0e0);\n",
       "  --xr-disabled-color: var(--jp-layout-color3, #bdbdbd);\n",
       "  --xr-background-color: var(--jp-layout-color0, white);\n",
       "  --xr-background-color-row-even: var(--jp-layout-color1, white);\n",
       "  --xr-background-color-row-odd: var(--jp-layout-color2, #eeeeee);\n",
       "}\n",
       "\n",
       "html[theme=dark],\n",
       "body[data-theme=dark],\n",
       "body.vscode-dark {\n",
       "  --xr-font-color0: rgba(255, 255, 255, 1);\n",
       "  --xr-font-color2: rgba(255, 255, 255, 0.54);\n",
       "  --xr-font-color3: rgba(255, 255, 255, 0.38);\n",
       "  --xr-border-color: #1F1F1F;\n",
       "  --xr-disabled-color: #515151;\n",
       "  --xr-background-color: #111111;\n",
       "  --xr-background-color-row-even: #111111;\n",
       "  --xr-background-color-row-odd: #313131;\n",
       "}\n",
       "\n",
       ".xr-wrap {\n",
       "  display: block !important;\n",
       "  min-width: 300px;\n",
       "  max-width: 700px;\n",
       "}\n",
       "\n",
       ".xr-text-repr-fallback {\n",
       "  /* fallback to plain text repr when CSS is not injected (untrusted notebook) */\n",
       "  display: none;\n",
       "}\n",
       "\n",
       ".xr-header {\n",
       "  padding-top: 6px;\n",
       "  padding-bottom: 6px;\n",
       "  margin-bottom: 4px;\n",
       "  border-bottom: solid 1px var(--xr-border-color);\n",
       "}\n",
       "\n",
       ".xr-header > div,\n",
       ".xr-header > ul {\n",
       "  display: inline;\n",
       "  margin-top: 0;\n",
       "  margin-bottom: 0;\n",
       "}\n",
       "\n",
       ".xr-obj-type,\n",
       ".xr-array-name {\n",
       "  margin-left: 2px;\n",
       "  margin-right: 10px;\n",
       "}\n",
       "\n",
       ".xr-obj-type {\n",
       "  color: var(--xr-font-color2);\n",
       "}\n",
       "\n",
       ".xr-sections {\n",
       "  padding-left: 0 !important;\n",
       "  display: grid;\n",
       "  grid-template-columns: 150px auto auto 1fr 20px 20px;\n",
       "}\n",
       "\n",
       ".xr-section-item {\n",
       "  display: contents;\n",
       "}\n",
       "\n",
       ".xr-section-item input {\n",
       "  display: none;\n",
       "}\n",
       "\n",
       ".xr-section-item input + label {\n",
       "  color: var(--xr-disabled-color);\n",
       "}\n",
       "\n",
       ".xr-section-item input:enabled + label {\n",
       "  cursor: pointer;\n",
       "  color: var(--xr-font-color2);\n",
       "}\n",
       "\n",
       ".xr-section-item input:enabled + label:hover {\n",
       "  color: var(--xr-font-color0);\n",
       "}\n",
       "\n",
       ".xr-section-summary {\n",
       "  grid-column: 1;\n",
       "  color: var(--xr-font-color2);\n",
       "  font-weight: 500;\n",
       "}\n",
       "\n",
       ".xr-section-summary > span {\n",
       "  display: inline-block;\n",
       "  padding-left: 0.5em;\n",
       "}\n",
       "\n",
       ".xr-section-summary-in:disabled + label {\n",
       "  color: var(--xr-font-color2);\n",
       "}\n",
       "\n",
       ".xr-section-summary-in + label:before {\n",
       "  display: inline-block;\n",
       "  content: '►';\n",
       "  font-size: 11px;\n",
       "  width: 15px;\n",
       "  text-align: center;\n",
       "}\n",
       "\n",
       ".xr-section-summary-in:disabled + label:before {\n",
       "  color: var(--xr-disabled-color);\n",
       "}\n",
       "\n",
       ".xr-section-summary-in:checked + label:before {\n",
       "  content: '▼';\n",
       "}\n",
       "\n",
       ".xr-section-summary-in:checked + label > span {\n",
       "  display: none;\n",
       "}\n",
       "\n",
       ".xr-section-summary,\n",
       ".xr-section-inline-details {\n",
       "  padding-top: 4px;\n",
       "  padding-bottom: 4px;\n",
       "}\n",
       "\n",
       ".xr-section-inline-details {\n",
       "  grid-column: 2 / -1;\n",
       "}\n",
       "\n",
       ".xr-section-details {\n",
       "  display: none;\n",
       "  grid-column: 1 / -1;\n",
       "  margin-bottom: 5px;\n",
       "}\n",
       "\n",
       ".xr-section-summary-in:checked ~ .xr-section-details {\n",
       "  display: contents;\n",
       "}\n",
       "\n",
       ".xr-array-wrap {\n",
       "  grid-column: 1 / -1;\n",
       "  display: grid;\n",
       "  grid-template-columns: 20px auto;\n",
       "}\n",
       "\n",
       ".xr-array-wrap > label {\n",
       "  grid-column: 1;\n",
       "  vertical-align: top;\n",
       "}\n",
       "\n",
       ".xr-preview {\n",
       "  color: var(--xr-font-color3);\n",
       "}\n",
       "\n",
       ".xr-array-preview,\n",
       ".xr-array-data {\n",
       "  padding: 0 5px !important;\n",
       "  grid-column: 2;\n",
       "}\n",
       "\n",
       ".xr-array-data,\n",
       ".xr-array-in:checked ~ .xr-array-preview {\n",
       "  display: none;\n",
       "}\n",
       "\n",
       ".xr-array-in:checked ~ .xr-array-data,\n",
       ".xr-array-preview {\n",
       "  display: inline-block;\n",
       "}\n",
       "\n",
       ".xr-dim-list {\n",
       "  display: inline-block !important;\n",
       "  list-style: none;\n",
       "  padding: 0 !important;\n",
       "  margin: 0;\n",
       "}\n",
       "\n",
       ".xr-dim-list li {\n",
       "  display: inline-block;\n",
       "  padding: 0;\n",
       "  margin: 0;\n",
       "}\n",
       "\n",
       ".xr-dim-list:before {\n",
       "  content: '(';\n",
       "}\n",
       "\n",
       ".xr-dim-list:after {\n",
       "  content: ')';\n",
       "}\n",
       "\n",
       ".xr-dim-list li:not(:last-child):after {\n",
       "  content: ',';\n",
       "  padding-right: 5px;\n",
       "}\n",
       "\n",
       ".xr-has-index {\n",
       "  font-weight: bold;\n",
       "}\n",
       "\n",
       ".xr-var-list,\n",
       ".xr-var-item {\n",
       "  display: contents;\n",
       "}\n",
       "\n",
       ".xr-var-item > div,\n",
       ".xr-var-item label,\n",
       ".xr-var-item > .xr-var-name span {\n",
       "  background-color: var(--xr-background-color-row-even);\n",
       "  margin-bottom: 0;\n",
       "}\n",
       "\n",
       ".xr-var-item > .xr-var-name:hover span {\n",
       "  padding-right: 5px;\n",
       "}\n",
       "\n",
       ".xr-var-list > li:nth-child(odd) > div,\n",
       ".xr-var-list > li:nth-child(odd) > label,\n",
       ".xr-var-list > li:nth-child(odd) > .xr-var-name span {\n",
       "  background-color: var(--xr-background-color-row-odd);\n",
       "}\n",
       "\n",
       ".xr-var-name {\n",
       "  grid-column: 1;\n",
       "}\n",
       "\n",
       ".xr-var-dims {\n",
       "  grid-column: 2;\n",
       "}\n",
       "\n",
       ".xr-var-dtype {\n",
       "  grid-column: 3;\n",
       "  text-align: right;\n",
       "  color: var(--xr-font-color2);\n",
       "}\n",
       "\n",
       ".xr-var-preview {\n",
       "  grid-column: 4;\n",
       "}\n",
       "\n",
       ".xr-index-preview {\n",
       "  grid-column: 2 / 5;\n",
       "  color: var(--xr-font-color2);\n",
       "}\n",
       "\n",
       ".xr-var-name,\n",
       ".xr-var-dims,\n",
       ".xr-var-dtype,\n",
       ".xr-preview,\n",
       ".xr-attrs dt {\n",
       "  white-space: nowrap;\n",
       "  overflow: hidden;\n",
       "  text-overflow: ellipsis;\n",
       "  padding-right: 10px;\n",
       "}\n",
       "\n",
       ".xr-var-name:hover,\n",
       ".xr-var-dims:hover,\n",
       ".xr-var-dtype:hover,\n",
       ".xr-attrs dt:hover {\n",
       "  overflow: visible;\n",
       "  width: auto;\n",
       "  z-index: 1;\n",
       "}\n",
       "\n",
       ".xr-var-attrs,\n",
       ".xr-var-data,\n",
       ".xr-index-data {\n",
       "  display: none;\n",
       "  background-color: var(--xr-background-color) !important;\n",
       "  padding-bottom: 5px !important;\n",
       "}\n",
       "\n",
       ".xr-var-attrs-in:checked ~ .xr-var-attrs,\n",
       ".xr-var-data-in:checked ~ .xr-var-data,\n",
       ".xr-index-data-in:checked ~ .xr-index-data {\n",
       "  display: block;\n",
       "}\n",
       "\n",
       ".xr-var-data > table {\n",
       "  float: right;\n",
       "}\n",
       "\n",
       ".xr-var-name span,\n",
       ".xr-var-data,\n",
       ".xr-index-name div,\n",
       ".xr-index-data,\n",
       ".xr-attrs {\n",
       "  padding-left: 25px !important;\n",
       "}\n",
       "\n",
       ".xr-attrs,\n",
       ".xr-var-attrs,\n",
       ".xr-var-data,\n",
       ".xr-index-data {\n",
       "  grid-column: 1 / -1;\n",
       "}\n",
       "\n",
       "dl.xr-attrs {\n",
       "  padding: 0;\n",
       "  margin: 0;\n",
       "  display: grid;\n",
       "  grid-template-columns: 125px auto;\n",
       "}\n",
       "\n",
       ".xr-attrs dt,\n",
       ".xr-attrs dd {\n",
       "  padding: 0;\n",
       "  margin: 0;\n",
       "  float: left;\n",
       "  padding-right: 10px;\n",
       "  width: auto;\n",
       "}\n",
       "\n",
       ".xr-attrs dt {\n",
       "  font-weight: normal;\n",
       "  grid-column: 1;\n",
       "}\n",
       "\n",
       ".xr-attrs dt:hover span {\n",
       "  display: inline-block;\n",
       "  background: var(--xr-background-color);\n",
       "  padding-right: 10px;\n",
       "}\n",
       "\n",
       ".xr-attrs dd {\n",
       "  grid-column: 2;\n",
       "  white-space: pre-wrap;\n",
       "  word-break: break-all;\n",
       "}\n",
       "\n",
       ".xr-icon-database,\n",
       ".xr-icon-file-text2,\n",
       ".xr-no-icon {\n",
       "  display: inline-block;\n",
       "  vertical-align: middle;\n",
       "  width: 1em;\n",
       "  height: 1.5em !important;\n",
       "  stroke-width: 0;\n",
       "  stroke: currentColor;\n",
       "  fill: currentColor;\n",
       "}\n",
       "</style><pre class='xr-text-repr-fallback'>&lt;xarray.DataArray &#x27;response&#x27; (decade: 10, run: 9, y: 12, x: 24)&gt; Size: 207kB\n",
       "[25920 values with dtype=float64]\n",
       "Coordinates:\n",
       "  * y            (y) float64 96B 36.0 36.25 36.5 36.75 ... 38.0 38.25 38.5 38.75\n",
       "  * x            (x) float64 192B -7.5 -7.25 -7.0 -6.75 ... -2.25 -2.0 -1.75\n",
       "  * run          (run) &lt;U28 1kB &#x27;ec_earth-hirham5-r3i1p1&#x27; ... &#x27;noresm1_m-hirh...\n",
       "  * decade       (decade) int64 80B 2000 2010 2020 2030 ... 2060 2070 2080 2090\n",
       "    spatial_ref  int64 8B ...\n",
       "Attributes:\n",
       "    location:   Andalucía\n",
       "    threshold:  60.0\n",
       "    variable:   pe\n",
       "    label:      probability of exceeding FWI 60.0 in a year\n",
       "    units:      %\n",
       "    rcp:        RCP4.5</pre><div class='xr-wrap' style='display:none'><div class='xr-header'><div class='xr-obj-type'>xarray.DataArray</div><div class='xr-array-name'>'response'</div><ul class='xr-dim-list'><li><span class='xr-has-index'>decade</span>: 10</li><li><span class='xr-has-index'>run</span>: 9</li><li><span class='xr-has-index'>y</span>: 12</li><li><span class='xr-has-index'>x</span>: 24</li></ul></div><ul class='xr-sections'><li class='xr-section-item'><div class='xr-array-wrap'><input id='section-5cbb0d56-cb9f-4cf8-90c9-905345d821f4' class='xr-array-in' type='checkbox' checked><label for='section-5cbb0d56-cb9f-4cf8-90c9-905345d821f4' title='Show/hide data repr'><svg class='icon xr-icon-database'><use xlink:href='#icon-database'></use></svg></label><div class='xr-array-preview xr-preview'><span>...</span></div><div class='xr-array-data'><pre>[25920 values with dtype=float64]</pre></div></div></li><li class='xr-section-item'><input id='section-f6e86133-63e3-4c67-b731-e3115d41a365' class='xr-section-summary-in' type='checkbox'  checked><label for='section-f6e86133-63e3-4c67-b731-e3115d41a365' class='xr-section-summary' >Coordinates: <span>(5)</span></label><div class='xr-section-inline-details'></div><div class='xr-section-details'><ul class='xr-var-list'><li class='xr-var-item'><div class='xr-var-name'><span class='xr-has-index'>y</span></div><div class='xr-var-dims'>(y)</div><div class='xr-var-dtype'>float64</div><div class='xr-var-preview xr-preview'>36.0 36.25 36.5 ... 38.5 38.75</div><input id='attrs-e5abbae0-9113-4d17-b694-227c70617705' class='xr-var-attrs-in' type='checkbox' disabled><label for='attrs-e5abbae0-9113-4d17-b694-227c70617705' title='Show/Hide attributes'><svg class='icon xr-icon-file-text2'><use xlink:href='#icon-file-text2'></use></svg></label><input id='data-a663646e-78f1-420d-9650-f5f028392377' class='xr-var-data-in' type='checkbox'><label for='data-a663646e-78f1-420d-9650-f5f028392377' title='Show/Hide data repr'><svg class='icon xr-icon-database'><use xlink:href='#icon-database'></use></svg></label><div class='xr-var-attrs'><dl class='xr-attrs'></dl></div><div class='xr-var-data'><pre>array([36.  , 36.25, 36.5 , 36.75, 37.  , 37.25, 37.5 , 37.75, 38.  , 38.25,\n",
       "       38.5 , 38.75])</pre></div></li><li class='xr-var-item'><div class='xr-var-name'><span class='xr-has-index'>x</span></div><div class='xr-var-dims'>(x)</div><div class='xr-var-dtype'>float64</div><div class='xr-var-preview xr-preview'>-7.5 -7.25 -7.0 ... -2.0 -1.75</div><input id='attrs-52532bb3-d220-4bfe-bc97-04df300a6805' class='xr-var-attrs-in' type='checkbox' disabled><label for='attrs-52532bb3-d220-4bfe-bc97-04df300a6805' title='Show/Hide attributes'><svg class='icon xr-icon-file-text2'><use xlink:href='#icon-file-text2'></use></svg></label><input id='data-53d10160-c30d-4307-ae7d-45ab1b604555' class='xr-var-data-in' type='checkbox'><label for='data-53d10160-c30d-4307-ae7d-45ab1b604555' title='Show/Hide data repr'><svg class='icon xr-icon-database'><use xlink:href='#icon-database'></use></svg></label><div class='xr-var-attrs'><dl class='xr-attrs'></dl></div><div class='xr-var-data'><pre>array([-7.5 , -7.25, -7.  , -6.75, -6.5 , -6.25, -6.  , -5.75, -5.5 , -5.25,\n",
       "       -5.  , -4.75, -4.5 , -4.25, -4.  , -3.75, -3.5 , -3.25, -3.  , -2.75,\n",
       "       -2.5 , -2.25, -2.  , -1.75])</pre></div></li><li class='xr-var-item'><div class='xr-var-name'><span class='xr-has-index'>run</span></div><div class='xr-var-dims'>(run)</div><div class='xr-var-dtype'>&lt;U28</div><div class='xr-var-preview xr-preview'>&#x27;ec_earth-hirham5-r3i1p1&#x27; ... &#x27;n...</div><input id='attrs-b71f2e12-9e8b-4ac9-9e8d-a28444bd55f9' class='xr-var-attrs-in' type='checkbox' disabled><label for='attrs-b71f2e12-9e8b-4ac9-9e8d-a28444bd55f9' title='Show/Hide attributes'><svg class='icon xr-icon-file-text2'><use xlink:href='#icon-file-text2'></use></svg></label><input id='data-787c6d0d-28c6-41f3-a392-429dbcd817c6' class='xr-var-data-in' type='checkbox'><label for='data-787c6d0d-28c6-41f3-a392-429dbcd817c6' title='Show/Hide data repr'><svg class='icon xr-icon-database'><use xlink:href='#icon-database'></use></svg></label><div class='xr-var-attrs'><dl class='xr-attrs'></dl></div><div class='xr-var-data'><pre>array([&#x27;ec_earth-hirham5-r3i1p1&#x27;, &#x27;ec_earth-racmo22e-r1i1p1&#x27;,\n",
       "       &#x27;ec_earth-rca4-r12i1p1&#x27;, &#x27;hadgem2_es-racmo22e-r1i1p1&#x27;,\n",
       "       &#x27;hadgem2_es-rca4-r1i1p1&#x27;, &#x27;ipsl_cm5a_mr-wrf381p-r1i1p1&#x27;,\n",
       "       &#x27;mpi_esm_lr-cclm4_8_17-r1i1p1&#x27;, &#x27;mpi_esm_lr-rca4-r1i1p1&#x27;,\n",
       "       &#x27;noresm1_m-hirham5-r1i1p1&#x27;], dtype=&#x27;&lt;U28&#x27;)</pre></div></li><li class='xr-var-item'><div class='xr-var-name'><span class='xr-has-index'>decade</span></div><div class='xr-var-dims'>(decade)</div><div class='xr-var-dtype'>int64</div><div class='xr-var-preview xr-preview'>2000 2010 2020 ... 2070 2080 2090</div><input id='attrs-b7f60424-a67e-49c1-96ae-dd72d721eb47' class='xr-var-attrs-in' type='checkbox' disabled><label for='attrs-b7f60424-a67e-49c1-96ae-dd72d721eb47' title='Show/Hide attributes'><svg class='icon xr-icon-file-text2'><use xlink:href='#icon-file-text2'></use></svg></label><input id='data-0d4b3333-9a24-475c-ae50-2c6f8cf944bc' class='xr-var-data-in' type='checkbox'><label for='data-0d4b3333-9a24-475c-ae50-2c6f8cf944bc' title='Show/Hide data repr'><svg class='icon xr-icon-database'><use xlink:href='#icon-database'></use></svg></label><div class='xr-var-attrs'><dl class='xr-attrs'></dl></div><div class='xr-var-data'><pre>array([2000, 2010, 2020, 2030, 2040, 2050, 2060, 2070, 2080, 2090])</pre></div></li><li class='xr-var-item'><div class='xr-var-name'><span>spatial_ref</span></div><div class='xr-var-dims'>()</div><div class='xr-var-dtype'>int64</div><div class='xr-var-preview xr-preview'>...</div><input id='attrs-06546c3a-4ac9-4de5-8a62-8af9aaa9693e' class='xr-var-attrs-in' type='checkbox' ><label for='attrs-06546c3a-4ac9-4de5-8a62-8af9aaa9693e' title='Show/Hide attributes'><svg class='icon xr-icon-file-text2'><use xlink:href='#icon-file-text2'></use></svg></label><input id='data-4bd50827-ef68-4003-b109-6b11be284f07' class='xr-var-data-in' type='checkbox'><label for='data-4bd50827-ef68-4003-b109-6b11be284f07' title='Show/Hide data repr'><svg class='icon xr-icon-database'><use xlink:href='#icon-database'></use></svg></label><div class='xr-var-attrs'><dl class='xr-attrs'><dt><span>crs_wkt :</span></dt><dd>GEOGCS[&quot;WGS 84&quot;,DATUM[&quot;WGS_1984&quot;,SPHEROID[&quot;WGS 84&quot;,6378137,298.257223563,AUTHORITY[&quot;EPSG&quot;,&quot;7030&quot;]],AUTHORITY[&quot;EPSG&quot;,&quot;6326&quot;]],PRIMEM[&quot;Greenwich&quot;,0,AUTHORITY[&quot;EPSG&quot;,&quot;8901&quot;]],UNIT[&quot;degree&quot;,0.0174532925199433,AUTHORITY[&quot;EPSG&quot;,&quot;9122&quot;]],AXIS[&quot;Latitude&quot;,NORTH],AXIS[&quot;Longitude&quot;,EAST],AUTHORITY[&quot;EPSG&quot;,&quot;4326&quot;]]</dd><dt><span>semi_major_axis :</span></dt><dd>6378137.0</dd><dt><span>semi_minor_axis :</span></dt><dd>6356752.314245179</dd><dt><span>inverse_flattening :</span></dt><dd>298.257223563</dd><dt><span>reference_ellipsoid_name :</span></dt><dd>WGS 84</dd><dt><span>longitude_of_prime_meridian :</span></dt><dd>0.0</dd><dt><span>prime_meridian_name :</span></dt><dd>Greenwich</dd><dt><span>geographic_crs_name :</span></dt><dd>WGS 84</dd><dt><span>horizontal_datum_name :</span></dt><dd>World Geodetic System 1984</dd><dt><span>grid_mapping_name :</span></dt><dd>latitude_longitude</dd><dt><span>spatial_ref :</span></dt><dd>GEOGCS[&quot;WGS 84&quot;,DATUM[&quot;WGS_1984&quot;,SPHEROID[&quot;WGS 84&quot;,6378137,298.257223563,AUTHORITY[&quot;EPSG&quot;,&quot;7030&quot;]],AUTHORITY[&quot;EPSG&quot;,&quot;6326&quot;]],PRIMEM[&quot;Greenwich&quot;,0,AUTHORITY[&quot;EPSG&quot;,&quot;8901&quot;]],UNIT[&quot;degree&quot;,0.0174532925199433,AUTHORITY[&quot;EPSG&quot;,&quot;9122&quot;]],AXIS[&quot;Latitude&quot;,NORTH],AXIS[&quot;Longitude&quot;,EAST],AUTHORITY[&quot;EPSG&quot;,&quot;4326&quot;]]</dd></dl></div><div class='xr-var-data'><pre>[1 values with dtype=int64]</pre></div></li></ul></div></li><li class='xr-section-item'><input id='section-659c7066-1a34-4caf-ab48-11038d7f2381' class='xr-section-summary-in' type='checkbox'  ><label for='section-659c7066-1a34-4caf-ab48-11038d7f2381' class='xr-section-summary' >Indexes: <span>(4)</span></label><div class='xr-section-inline-details'></div><div class='xr-section-details'><ul class='xr-var-list'><li class='xr-var-item'><div class='xr-index-name'><div>y</div></div><div class='xr-index-preview'>PandasIndex</div><div></div><input id='index-7412114b-20fc-4b9a-9b2a-7528cb89fe02' class='xr-index-data-in' type='checkbox'/><label for='index-7412114b-20fc-4b9a-9b2a-7528cb89fe02' title='Show/Hide index repr'><svg class='icon xr-icon-database'><use xlink:href='#icon-database'></use></svg></label><div class='xr-index-data'><pre>PandasIndex(Index([36.0, 36.25, 36.5, 36.75, 37.0, 37.25, 37.5, 37.75, 38.0, 38.25, 38.5,\n",
       "       38.75],\n",
       "      dtype=&#x27;float64&#x27;, name=&#x27;y&#x27;))</pre></div></li><li class='xr-var-item'><div class='xr-index-name'><div>x</div></div><div class='xr-index-preview'>PandasIndex</div><div></div><input id='index-d1cfa5e5-e4c5-4262-a4b9-bdc946e8d345' class='xr-index-data-in' type='checkbox'/><label for='index-d1cfa5e5-e4c5-4262-a4b9-bdc946e8d345' title='Show/Hide index repr'><svg class='icon xr-icon-database'><use xlink:href='#icon-database'></use></svg></label><div class='xr-index-data'><pre>PandasIndex(Index([ -7.5, -7.25,  -7.0, -6.75,  -6.5, -6.25,  -6.0, -5.75,  -5.5, -5.25,\n",
       "        -5.0, -4.75,  -4.5, -4.25,  -4.0, -3.75,  -3.5, -3.25,  -3.0, -2.75,\n",
       "        -2.5, -2.25,  -2.0, -1.75],\n",
       "      dtype=&#x27;float64&#x27;, name=&#x27;x&#x27;))</pre></div></li><li class='xr-var-item'><div class='xr-index-name'><div>run</div></div><div class='xr-index-preview'>PandasIndex</div><div></div><input id='index-ec3bb8de-b876-4845-bba2-2b059893b5e3' class='xr-index-data-in' type='checkbox'/><label for='index-ec3bb8de-b876-4845-bba2-2b059893b5e3' title='Show/Hide index repr'><svg class='icon xr-icon-database'><use xlink:href='#icon-database'></use></svg></label><div class='xr-index-data'><pre>PandasIndex(Index([&#x27;ec_earth-hirham5-r3i1p1&#x27;, &#x27;ec_earth-racmo22e-r1i1p1&#x27;,\n",
       "       &#x27;ec_earth-rca4-r12i1p1&#x27;, &#x27;hadgem2_es-racmo22e-r1i1p1&#x27;,\n",
       "       &#x27;hadgem2_es-rca4-r1i1p1&#x27;, &#x27;ipsl_cm5a_mr-wrf381p-r1i1p1&#x27;,\n",
       "       &#x27;mpi_esm_lr-cclm4_8_17-r1i1p1&#x27;, &#x27;mpi_esm_lr-rca4-r1i1p1&#x27;,\n",
       "       &#x27;noresm1_m-hirham5-r1i1p1&#x27;],\n",
       "      dtype=&#x27;object&#x27;, name=&#x27;run&#x27;))</pre></div></li><li class='xr-var-item'><div class='xr-index-name'><div>decade</div></div><div class='xr-index-preview'>PandasIndex</div><div></div><input id='index-ebb6e13e-ac64-40e2-a4a8-2a06c8684b08' class='xr-index-data-in' type='checkbox'/><label for='index-ebb6e13e-ac64-40e2-a4a8-2a06c8684b08' title='Show/Hide index repr'><svg class='icon xr-icon-database'><use xlink:href='#icon-database'></use></svg></label><div class='xr-index-data'><pre>PandasIndex(Index([2000, 2010, 2020, 2030, 2040, 2050, 2060, 2070, 2080, 2090], dtype=&#x27;int64&#x27;, name=&#x27;decade&#x27;))</pre></div></li></ul></div></li><li class='xr-section-item'><input id='section-bb317c8d-531f-4f99-889a-c9ba703c2b07' class='xr-section-summary-in' type='checkbox'  checked><label for='section-bb317c8d-531f-4f99-889a-c9ba703c2b07' class='xr-section-summary' >Attributes: <span>(6)</span></label><div class='xr-section-inline-details'></div><div class='xr-section-details'><dl class='xr-attrs'><dt><span>location :</span></dt><dd>Andalucía</dd><dt><span>threshold :</span></dt><dd>60.0</dd><dt><span>variable :</span></dt><dd>pe</dd><dt><span>label :</span></dt><dd>probability of exceeding FWI 60.0 in a year</dd><dt><span>units :</span></dt><dd>%</dd><dt><span>rcp :</span></dt><dd>RCP4.5</dd></dl></div></li></ul></div></div>"
      ],
      "text/plain": [
       "<xarray.DataArray 'response' (decade: 10, run: 9, y: 12, x: 24)> Size: 207kB\n",
       "[25920 values with dtype=float64]\n",
       "Coordinates:\n",
       "  * y            (y) float64 96B 36.0 36.25 36.5 36.75 ... 38.0 38.25 38.5 38.75\n",
       "  * x            (x) float64 192B -7.5 -7.25 -7.0 -6.75 ... -2.25 -2.0 -1.75\n",
       "  * run          (run) <U28 1kB 'ec_earth-hirham5-r3i1p1' ... 'noresm1_m-hirh...\n",
       "  * decade       (decade) int64 80B 2000 2010 2020 2030 ... 2060 2070 2080 2090\n",
       "    spatial_ref  int64 8B ...\n",
       "Attributes:\n",
       "    location:   Andalucía\n",
       "    threshold:  60.0\n",
       "    variable:   pe\n",
       "    label:      probability of exceeding FWI 60.0 in a year\n",
       "    units:      %\n",
       "    rcp:        RCP4.5"
      ]
     },
     "execution_count": 12,
     "metadata": {},
     "output_type": "execute_result"
    }
   ],
   "source": [
    "hazard = xr.open_dataarray(hazard_dir / f\"response_{rcp}.nc\", decode_coords=\"all\")\n",
    "hazard"
   ]
  },
  {
   "cell_type": "markdown",
   "id": "beb88491-c18b-4046-8b1d-e344d86f5275",
   "metadata": {},
   "source": [
    ":::{tip}\n",
    "\n",
    "While this population-based risk assessment is preconfigured for a wildfire hazard indicator, it can easily be adapted for indicators of other hazards.\n",
    ":::"
   ]
  },
  {
   "cell_type": "markdown",
   "id": "79fac012-37e6-4269-b331-14763ed26a6b",
   "metadata": {},
   "source": [
    "## Step 3: Count the affected population\n",
    "\n",
    "Combine the projections of wildfire hazard and population to determine the future risk of wildfire conditions for the inhabitants of the region of interest."
   ]
  },
  {
   "cell_type": "code",
   "execution_count": 13,
   "id": "85c4ca67-a0dc-4c67-818c-7ab013635132",
   "metadata": {},
   "outputs": [],
   "source": [
    "def sum_where_level_exceeded(data, data_where, level):\n",
    "    counts = data.where(data_where >= level).sum(dim=[\"y\", \"x\"])\n",
    "    return counts.assign_coords({\"level\": level})\n",
    "\n",
    "\n",
    "def affected_population(hazard, population, levels, decade):\n",
    "    # Hazard data is given in 10 year steps with each data point representative of a decade,\n",
    "    # e.g., decade 2030 represents years 2030-2039 (inclusive). The population data is given\n",
    "    # in 5 year steps with each value representing the year for which it is valid. To align,\n",
    "    # select the middle year of each decade to represent the population of that decade. E.g.,\n",
    "    # for decade 2030-2039, take the population projection for 2035.\n",
    "    population = population.sel({\"year\": decade + 5})\n",
    "    \n",
    "    # Resample to the grid of the highest-resolution dataset. This usually means resampling\n",
    "    # the hazard data to match the population data.\n",
    "    hazard = hazard.sel({\"decade\": decade}).rio.reproject_match(population)\n",
    "    \n",
    "    # Sum the population for each level (could also be implemented with numpy's digitize,\n",
    "    # bincount and cumsum, but not all have xarray equivalents)\n",
    "    counts = xr.concat(\n",
    "        [sum_where_level_exceeded(population, hazard, level) for level in levels],\n",
    "        dim=\"level\"\n",
    "    )\n",
    "    return counts.assign_coords({\"decade\": decade}).rename(\"affected_population\")"
   ]
  },
  {
   "cell_type": "markdown",
   "id": "8dff79b6-d621-4e7b-bc87-41bfb9526eff",
   "metadata": {},
   "source": [
    "Split the value range of the hazard indicator into a set of thresholds and count the population where the the hazard indicator exceeds each threshold."
   ]
  },
  {
   "cell_type": "code",
   "execution_count": 14,
   "id": "c0a92a86-b6e8-416b-ba32-beb8fd276f6a",
   "metadata": {},
   "outputs": [],
   "source": [
    "# Decades to evaluate\n",
    "decades = [2020, 2030, 2040, 2050, 2060, 2070, 2080, 2090]\n",
    "\n",
    "# Levels for the hazard exceedance (adapt to the selected hazard indicator)\n",
    "# Default: probability of exceedance from 0% to 100% in steps of 1%\n",
    "hazard_levels = np.linspace(0, 100, 101)\n",
    "\n",
    "# Count for all decades and model runs\n",
    "counts = xr.concat(\n",
    "    [affected_population(hazard, population, hazard_levels, decade) for decade in decades],\n",
    "    dim=\"decade\"\n",
    ")"
   ]
  },
  {
   "cell_type": "markdown",
   "id": "e5680e4b-9a5a-4971-b8ea-b6fd24124018",
   "metadata": {},
   "source": [
    ":::{tip}\n",
    "\n",
    "Adapt the hazard levels to the imported hazard indicator.\n",
    ":::"
   ]
  },
  {
   "cell_type": "markdown",
   "id": "abf8e44f-3392-42ed-aef8-495fb5822fdc",
   "metadata": {},
   "source": [
    "## Step 4: Risk analysis"
   ]
  },
  {
   "cell_type": "markdown",
   "id": "6c6fddd1-2699-4ec0-883f-81afa0e6dc8f",
   "metadata": {},
   "source": [
    "### Affected population for all hazard levels\n",
    "\n",
    "For a specific decade, show the number of inhabitants in areas where a hazard level is exceeded plotted against all sampled hazard levels.\n",
    "An uncertainty estimate based on the ensemble of hazard projections can be made."
   ]
  },
  {
   "cell_type": "code",
   "execution_count": 15,
   "id": "e11ad360-6e02-4ee1-8ed1-9b4090f964d1",
   "metadata": {},
   "outputs": [
    {
     "data": {
      "text/plain": [
       "Text(0, 0.5, 'affected population (#)')"
      ]
     },
     "execution_count": 15,
     "metadata": {},
     "output_type": "execute_result"
    },
    {
     "data": {
      "image/png": "[encoded data removed]",
      "text/plain": [
       "<Figure size 800x400 with 1 Axes>"
      ]
     },
     "metadata": {},
     "output_type": "display_data"
    }
   ],
   "source": [
    "# Choose two decades to compare\n",
    "decade_1 = 2030\n",
    "decade_2 = 2090\n",
    "\n",
    "figure = ekp.Figure(size=(8, 4))\n",
    "figure.title(f\"{location} | {rcp} | {ssp}\")\n",
    "\n",
    "subplot = figure.add_subplot()\n",
    "subplot.title(f\"Hazard affected population {decade_1}s (black) and {decade_2}s (red)\")\n",
    "subplot.quantiles(\n",
    "    counts.sel({\"decade\": decade_1}),\n",
    "    x=counts[\"level\"],\n",
    "    dim=\"run\",\n",
    "    quantiles=[0.0, 0.25, 0.5, 0.75, 1.0],\n",
    "    color=\"black\"\n",
    ")\n",
    "subplot.quantiles(\n",
    "    counts.sel({\"decade\": decade_2}),\n",
    "    x=counts[\"level\"],\n",
    "    dim=\"run\",\n",
    "    quantiles=[0.0, 0.25, 0.5, 0.75, 1.0],\n",
    "    color=\"red\"\n",
    ")\n",
    "subplot.ax.set_xticks(np.linspace(0, 100, 11))\n",
    "subplot.ax.set_xlabel(\"{label} ({units})\".format(**hazard.attrs))\n",
    "subplot.ax.set_ylabel(\"affected population (#)\")"
   ]
  },
  {
   "attachments": {},
   "cell_type": "markdown",
   "id": "bf483338-63f9-492b-bbb6-46c52e627422",
   "metadata": {},
   "source": [
    "Each point along the graph indicates how many people (read from y-axis) inhabit the areas where a hazard level (read from x-axis) is exceeded.\n",
    "The line shows the median projection, while the shaded regions indicate the 25-75 percentile (dark) and total (light) range of all projections.\n",
    "\n",
    "- As the affected area generally becomes smaller with increasing threshold (going left to right in the plot), the affected population also decreases.\n",
    "- The affected population decreases sharply when a densely populated area drops out of the affected area as the hazard level decreases.\n",
    "- If there is a **minimum threshold** that the entire population is affected by, the line will start at the total population count on the left and stay there until this threshold value is reached, after which the affected population count decreases.\n",
    "- If there is a **maximum threshold** that no part of the population is affected by, the line will go to 0 and stay there after this threshold value has been reached."
   ]
  },
  {
   "cell_type": "markdown",
   "id": "94392ff4-1687-41c7-adea-f62bc50b52a8",
   "metadata": {},
   "source": [
    "### Evolution of the affected population for a specific hazard level\n",
    "\n",
    "For a specific hazard level, determine the affected population over time."
   ]
  },
  {
   "cell_type": "code",
   "execution_count": 16,
   "id": "5c4b8a3d-699a-4cf3-a2f7-7f6116715b08",
   "metadata": {},
   "outputs": [
    {
     "data": {
      "text/plain": [
       "Text(0, 0.5, 'affected population (#)')"
      ]
     },
     "execution_count": 16,
     "metadata": {},
     "output_type": "execute_result"
    },
    {
     "data": {
      "image/png": "[encoded data removed]",
      "text/plain": [
       "<Figure size 800x400 with 1 Axes>"
      ]
     },
     "metadata": {},
     "output_type": "display_data"
    }
   ],
   "source": [
    "# Choose a hazard level to evaluate. Has units of the hazard indicator,\n",
    "# e.g., % for a probability of exceedance.\n",
    "level = 30\n",
    "\n",
    "figure = ekp.Figure(size=(8, 4))\n",
    "figure.title(f\"{location} | {rcp} | {ssp}\")\n",
    "\n",
    "subplot = figure.add_subplot()\n",
    "subplot.title(f\"Population affected by: {hazard.attrs['label']} ≥ {level} {hazard.attrs['units']}\")\n",
    "subplot.quantiles(\n",
    "    counts.sel({\"level\": level}),\n",
    "    x=counts[\"decade\"],\n",
    "    dim=\"run\",\n",
    "    quantiles=[0.0, 0.25, 0.5, 0.75, 1.0]\n",
    ")\n",
    "subplot.ax.set_xlabel(\"decade\")\n",
    "subplot.ax.set_ylabel(\"affected population (#)\")"
   ]
  },
  {
   "cell_type": "markdown",
   "id": "6d0c6e8f-fbcd-42ad-8ca8-ac2b1b875d0d",
   "metadata": {},
   "source": [
    "The plot shows the median count of the affected population (line) and the uncertainty in form of the 25-75 percentile (dark shading) and total (light shading) range of all projections.\n",
    "\n",
    "\n",
    ":::{note}\n",
    "\n",
    "The uncertainty range only considers the uncertainty associated with the hazard indicator.\n",
    "Information on the uncertainty of the population projections is not available for the preconfigured dataset.\n",
    ":::"
   ]
  },
  {
   "cell_type": "markdown",
   "id": "582008ad-12c6-44f6-9b3f-ac6cc2555546",
   "metadata": {},
   "source": [
    "## Step 5: Export data\n",
    "\n",
    "Write the affected population counts for all sampled hazard levels:"
   ]
  },
  {
   "cell_type": "code",
   "execution_count": 17,
   "id": "28cbb70a-2529-4c28-919a-94a5a42bc5b8",
   "metadata": {},
   "outputs": [],
   "source": [
    "counts.attrs = {\n",
    "    \"location\": location,\n",
    "    \"RCP\": rcp,\n",
    "    \"SSP\": ssp,\n",
    "    \"hazard\": hazard.attrs[\"label\"]\n",
    "}\n",
    "counts.to_netcdf(hazard_dir / f\"affected_population_{ssp}_{rcp}.nc\")"
   ]
  },
  {
   "cell_type": "markdown",
   "id": "2ed2dfaa-d507-4ec0-ba34-89c707fe6770",
   "metadata": {},
   "source": [
    "## Summary\n",
    "\n",
    "By combining projections of wildfire hazard and population, we have estimated the population-at-risk for wildfire hazard until the end of the century for a region of interest.\n",
    "An uncertainty range for the population counts was determined from the ensemble of hazard projections."
   ]
  }
 ],
 "metadata": {
  "kernelspec": {
   "display_name": "Python 3 (ipykernel)",
   "language": "python",
   "name": "python3"
  },
  "language_info": {
   "codemirror_mode": {
    "name": "ipython",
    "version": 3
   },
   "file_extension": ".py",
   "mimetype": "text/x-python",
   "name": "python",
   "nbconvert_exporter": "python",
   "pygments_lexer": "ipython3",
   "version": "3.11.11"
  }
 },
 "nbformat": 4,
 "nbformat_minor": 5
}
